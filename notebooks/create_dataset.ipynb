{
 "cells": [
  {
   "cell_type": "markdown",
   "id": "211c5063-6c6c-400b-8f2d-21da328b9e71",
   "metadata": {},
   "source": [
    "# Import libraries"
   ]
  },
  {
   "cell_type": "code",
   "execution_count": 1,
   "id": "9ecd2f79-5bd6-4f10-a35a-620d938b7eeb",
   "metadata": {},
   "outputs": [],
   "source": [
    "import glob\n",
    "import os\n",
    "\n",
    "import pandas as pd\n",
    "from sklearn.model_selection import StratifiedGroupKFold"
   ]
  },
  {
   "cell_type": "markdown",
   "id": "22164f39-f630-4454-8b8e-6897badaea1c",
   "metadata": {},
   "source": [
    "# Define variables"
   ]
  },
  {
   "cell_type": "code",
   "execution_count": 2,
   "id": "9a7f0335-aa7b-4d3c-b6ab-a0a7680eaa72",
   "metadata": {
    "tags": []
   },
   "outputs": [],
   "source": [
    "root = \"./datasets/hm-images/images/\""
   ]
  },
  {
   "cell_type": "markdown",
   "id": "05ff6b1b-bee1-414d-b8ec-4cf425fdf48d",
   "metadata": {},
   "source": [
    "# Image counts"
   ]
  },
  {
   "cell_type": "code",
   "execution_count": 3,
   "id": "5e7cf888-3b06-434a-adcc-4dd566ea4892",
   "metadata": {},
   "outputs": [
    {
     "name": "stdout",
     "output_type": "stream",
     "text": [
      "./datasets/hm-images/images/: 0\n",
      "./datasets/hm-images/images/large: 0\n",
      "./datasets/hm-images/images/large/environmental: 940\n",
      "./datasets/hm-images/images/large/descriptiveDetail: 25627\n",
      "./datasets/hm-images/images/large/descriptiveStillLife: 29274\n",
      "./datasets/hm-images/images/large/lookbook: 16519\n",
      "./datasets/hm-images/images/extraSmall: 0\n",
      "./datasets/hm-images/images/extraSmall/environmental: 940\n",
      "./datasets/hm-images/images/extraSmall/descriptiveDetail: 25627\n",
      "./datasets/hm-images/images/extraSmall/descriptiveStillLife: 29275\n",
      "./datasets/hm-images/images/extraSmall/lookbook: 16508\n",
      "./datasets/hm-images/images/medium: 0\n",
      "./datasets/hm-images/images/medium/environmental: 940\n",
      "./datasets/hm-images/images/medium/descriptiveDetail: 25627\n",
      "./datasets/hm-images/images/medium/descriptiveStillLife: 29275\n",
      "./datasets/hm-images/images/medium/lookbook: 16518\n",
      "./datasets/hm-images/images/extraLarge: 0\n",
      "./datasets/hm-images/images/extraLarge/environmental: 938\n",
      "./datasets/hm-images/images/extraLarge/descriptiveDetail: 25633\n",
      "./datasets/hm-images/images/extraLarge/descriptiveStillLife: 29279\n",
      "./datasets/hm-images/images/extraLarge/lookbook: 16564\n",
      "Total: 289484\n"
     ]
    }
   ],
   "source": [
    "total = 0\n",
    "for base, dirs, files in os.walk(root):\n",
    "    count = len(files)\n",
    "    total += count\n",
    "    print(f\"{base}: {count}\")\n",
    "print(f\"Total: {total}\")"
   ]
  },
  {
   "cell_type": "markdown",
   "id": "0669a6f8-1d0b-4433-8000-7ce3d41be8f2",
   "metadata": {},
   "source": [
    "# Create data"
   ]
  },
  {
   "cell_type": "code",
   "execution_count": 4,
   "id": "5843399c-c29f-42e6-b97b-1305e65ca10f",
   "metadata": {},
   "outputs": [
    {
     "name": "stdout",
     "output_type": "stream",
     "text": [
      "289484\n"
     ]
    }
   ],
   "source": [
    "num = len(root)\n",
    "\n",
    "file_list = glob.glob(root + \"**/*.jpg\", recursive=True)\n",
    "castors = [int(os.path.basename(path)[:-4]) for path in file_list]\n",
    "path_list = [path[num:] for path in file_list]\n",
    "print(len(file_list))"
   ]
  },
  {
   "cell_type": "code",
   "execution_count": 5,
   "id": "5fe1648e-dd18-412d-913e-aadb2c9b6a46",
   "metadata": {},
   "outputs": [
    {
     "name": "stdout",
     "output_type": "stream",
     "text": [
      "(289484, 2)\n"
     ]
    },
    {
     "data": {
      "text/html": [
       "<div>\n",
       "<style scoped>\n",
       "    .dataframe tbody tr th:only-of-type {\n",
       "        vertical-align: middle;\n",
       "    }\n",
       "\n",
       "    .dataframe tbody tr th {\n",
       "        vertical-align: top;\n",
       "    }\n",
       "\n",
       "    .dataframe thead th {\n",
       "        text-align: right;\n",
       "    }\n",
       "</style>\n",
       "<table border=\"1\" class=\"dataframe\">\n",
       "  <thead>\n",
       "    <tr style=\"text-align: right;\">\n",
       "      <th></th>\n",
       "      <th>path</th>\n",
       "      <th>castors</th>\n",
       "    </tr>\n",
       "  </thead>\n",
       "  <tbody>\n",
       "    <tr>\n",
       "      <th>0</th>\n",
       "      <td>large/environmental/1108541001.jpg</td>\n",
       "      <td>1108541001</td>\n",
       "    </tr>\n",
       "    <tr>\n",
       "      <th>1</th>\n",
       "      <td>large/environmental/1011014001.jpg</td>\n",
       "      <td>1011014001</td>\n",
       "    </tr>\n",
       "    <tr>\n",
       "      <th>2</th>\n",
       "      <td>large/environmental/1116552001.jpg</td>\n",
       "      <td>1116552001</td>\n",
       "    </tr>\n",
       "    <tr>\n",
       "      <th>3</th>\n",
       "      <td>large/environmental/1025923001.jpg</td>\n",
       "      <td>1025923001</td>\n",
       "    </tr>\n",
       "    <tr>\n",
       "      <th>4</th>\n",
       "      <td>large/environmental/1094597001.jpg</td>\n",
       "      <td>1094597001</td>\n",
       "    </tr>\n",
       "  </tbody>\n",
       "</table>\n",
       "</div>"
      ],
      "text/plain": [
       "                                 path     castors\n",
       "0  large/environmental/1108541001.jpg  1108541001\n",
       "1  large/environmental/1011014001.jpg  1011014001\n",
       "2  large/environmental/1116552001.jpg  1116552001\n",
       "3  large/environmental/1025923001.jpg  1025923001\n",
       "4  large/environmental/1094597001.jpg  1094597001"
      ]
     },
     "execution_count": 5,
     "metadata": {},
     "output_type": "execute_result"
    }
   ],
   "source": [
    "df = pd.DataFrame(data=\n",
    "    {\n",
    "        \"path\": path_list,\n",
    "        \"castor\": castors\n",
    "    }\n",
    ")\n",
    "print(df.shape)\n",
    "df.head()"
   ]
  },
  {
   "cell_type": "code",
   "execution_count": 7,
   "id": "1907afe5-a9f7-45ef-92fe-40df0ac5526e",
   "metadata": {},
   "outputs": [],
   "source": [
    "df.to_csv(\"castors_path_df.csv\", index=False)"
   ]
  },
  {
   "cell_type": "markdown",
   "id": "6d34b26f-8f05-42d6-8449-378fa9afe7ab",
   "metadata": {},
   "source": [
    "# Pim table"
   ]
  },
  {
   "cell_type": "code",
   "execution_count": null,
   "id": "51b3d2b9-1010-4411-9a40-8230aaba62b5",
   "metadata": {},
   "outputs": [],
   "source": [
    "#%%bash\n",
    "#gsutil cp -r gs://hdl_tables/dim/dim_pim ./\n",
    "#gsutil cp -r gs://hdl-tables/dma/product_article_datamart ./"
   ]
  },
  {
   "cell_type": "code",
   "execution_count": 2,
   "id": "661fe91a-919d-421a-a83e-28df09c1bd6a",
   "metadata": {},
   "outputs": [
    {
     "name": "stdout",
     "output_type": "stream",
     "text": [
      "(3695062, 3)\n"
     ]
    },
    {
     "data": {
      "text/html": [
       "<div>\n",
       "<style scoped>\n",
       "    .dataframe tbody tr th:only-of-type {\n",
       "        vertical-align: middle;\n",
       "    }\n",
       "\n",
       "    .dataframe tbody tr th {\n",
       "        vertical-align: top;\n",
       "    }\n",
       "\n",
       "    .dataframe thead th {\n",
       "        text-align: right;\n",
       "    }\n",
       "</style>\n",
       "<table border=\"1\" class=\"dataframe\">\n",
       "  <thead>\n",
       "    <tr style=\"text-align: right;\">\n",
       "      <th></th>\n",
       "      <th>product_code</th>\n",
       "      <th>article_code</th>\n",
       "      <th>castor</th>\n",
       "    </tr>\n",
       "  </thead>\n",
       "  <tbody>\n",
       "    <tr>\n",
       "      <th>0</th>\n",
       "      <td>0686043</td>\n",
       "      <td>131</td>\n",
       "      <td>0686043131</td>\n",
       "    </tr>\n",
       "    <tr>\n",
       "      <th>1</th>\n",
       "      <td>0686043</td>\n",
       "      <td>132</td>\n",
       "      <td>0686043132</td>\n",
       "    </tr>\n",
       "    <tr>\n",
       "      <th>2</th>\n",
       "      <td>0686043</td>\n",
       "      <td>133</td>\n",
       "      <td>0686043133</td>\n",
       "    </tr>\n",
       "    <tr>\n",
       "      <th>3</th>\n",
       "      <td>0686043</td>\n",
       "      <td>134</td>\n",
       "      <td>0686043134</td>\n",
       "    </tr>\n",
       "    <tr>\n",
       "      <th>4</th>\n",
       "      <td>0686043</td>\n",
       "      <td>135</td>\n",
       "      <td>0686043135</td>\n",
       "    </tr>\n",
       "  </tbody>\n",
       "</table>\n",
       "</div>"
      ],
      "text/plain": [
       "  product_code article_code      castor\n",
       "0      0686043          131  0686043131\n",
       "1      0686043          132  0686043132\n",
       "2      0686043          133  0686043133\n",
       "3      0686043          134  0686043134\n",
       "4      0686043          135  0686043135"
      ]
     },
     "execution_count": 2,
     "metadata": {},
     "output_type": "execute_result"
    }
   ],
   "source": [
    "padma = pd.read_parquet(\"product_article_datamart\", columns=[\"product_code\", \"article_code\", \"castor\"])\n",
    "print(padma.shape)\n",
    "padma.head()"
   ]
  },
  {
   "cell_type": "code",
   "execution_count": 3,
   "id": "a575c217-dff5-4e0b-8ac2-233b4c671547",
   "metadata": {},
   "outputs": [
    {
     "data": {
      "text/plain": [
       "(1989227, 3)"
      ]
     },
     "execution_count": 3,
     "metadata": {},
     "output_type": "execute_result"
    }
   ],
   "source": [
    "padma = padma.drop_duplicates()\n",
    "padma.shape"
   ]
  },
  {
   "cell_type": "code",
   "execution_count": 4,
   "id": "3869ccf2-c432-431e-b547-c35f7318d543",
   "metadata": {},
   "outputs": [
    {
     "data": {
      "text/plain": [
       "product_code    False\n",
       "article_code    False\n",
       "castor          False\n",
       "dtype: bool"
      ]
     },
     "execution_count": 4,
     "metadata": {},
     "output_type": "execute_result"
    }
   ],
   "source": [
    "padma.isna().any()"
   ]
  },
  {
   "cell_type": "code",
   "execution_count": 5,
   "id": "712760f0-641e-46d2-8f16-5995b1f5688d",
   "metadata": {},
   "outputs": [
    {
     "data": {
      "text/plain": [
       "product_code    object\n",
       "article_code    object\n",
       "castor          object\n",
       "dtype: object"
      ]
     },
     "execution_count": 5,
     "metadata": {},
     "output_type": "execute_result"
    }
   ],
   "source": [
    "padma.dtypes"
   ]
  },
  {
   "cell_type": "code",
   "execution_count": 6,
   "id": "f2ec8a93-adb9-4917-b0d8-6d7e44a926ae",
   "metadata": {},
   "outputs": [],
   "source": [
    "padma.castor = padma.castor.astype(int)"
   ]
  },
  {
   "cell_type": "code",
   "execution_count": 7,
   "id": "9f42a587-543d-4c8c-98dc-b93bfecb45e2",
   "metadata": {},
   "outputs": [
    {
     "data": {
      "text/plain": [
       "product_code    object\n",
       "article_code    object\n",
       "castor           int64\n",
       "dtype: object"
      ]
     },
     "execution_count": 7,
     "metadata": {},
     "output_type": "execute_result"
    }
   ],
   "source": [
    "padma.dtypes"
   ]
  },
  {
   "cell_type": "code",
   "execution_count": 8,
   "id": "c93cd23c-e54c-4125-83e5-b6b79f9d2469",
   "metadata": {},
   "outputs": [
    {
     "name": "stdout",
     "output_type": "stream",
     "text": [
      "(274925, 109)\n"
     ]
    },
    {
     "data": {
      "text/html": [
       "<div>\n",
       "<style scoped>\n",
       "    .dataframe tbody tr th:only-of-type {\n",
       "        vertical-align: middle;\n",
       "    }\n",
       "\n",
       "    .dataframe tbody tr th {\n",
       "        vertical-align: top;\n",
       "    }\n",
       "\n",
       "    .dataframe thead th {\n",
       "        text-align: right;\n",
       "    }\n",
       "</style>\n",
       "<table border=\"1\" class=\"dataframe\">\n",
       "  <thead>\n",
       "    <tr style=\"text-align: right;\">\n",
       "      <th></th>\n",
       "      <th>product_number</th>\n",
       "      <th>product_article_code</th>\n",
       "      <th>product_code</th>\n",
       "      <th>article_code</th>\n",
       "      <th>product_name_short</th>\n",
       "      <th>product_name_long</th>\n",
       "      <th>product_short_description</th>\n",
       "      <th>product_long_description</th>\n",
       "      <th>product_title_name</th>\n",
       "      <th>product_collection</th>\n",
       "      <th>...</th>\n",
       "      <th>article_fragrance_family</th>\n",
       "      <th>article_coverage</th>\n",
       "      <th>article_skin_tone</th>\n",
       "      <th>article_finish</th>\n",
       "      <th>article_key_ingredients</th>\n",
       "      <th>article_spf</th>\n",
       "      <th>article_hair_type</th>\n",
       "      <th>article_external_colour_id</th>\n",
       "      <th>article_sustainability_details</th>\n",
       "      <th>hdl_load_id</th>\n",
       "    </tr>\n",
       "  </thead>\n",
       "  <tbody>\n",
       "    <tr>\n",
       "      <th>0</th>\n",
       "      <td>0109599</td>\n",
       "      <td>0109599007</td>\n",
       "      <td>0109599</td>\n",
       "      <td>007</td>\n",
       "      <td>Linen fitted sheet</td>\n",
       "      <td>Linen fitted sheet</td>\n",
       "      <td>None</td>\n",
       "      <td>Fitted sheet in washed linen. Tumble-drying wi...</td>\n",
       "      <td>None</td>\n",
       "      <td>None</td>\n",
       "      <td>...</td>\n",
       "      <td>None</td>\n",
       "      <td>None</td>\n",
       "      <td>None</td>\n",
       "      <td>None</td>\n",
       "      <td>None</td>\n",
       "      <td>None</td>\n",
       "      <td>None</td>\n",
       "      <td>None</td>\n",
       "      <td>None</td>\n",
       "      <td>220426035422042603</td>\n",
       "    </tr>\n",
       "    <tr>\n",
       "      <th>1</th>\n",
       "      <td>0109599</td>\n",
       "      <td>0109599006</td>\n",
       "      <td>0109599</td>\n",
       "      <td>006</td>\n",
       "      <td>Linen fitted sheet</td>\n",
       "      <td>Linen fitted sheet</td>\n",
       "      <td>None</td>\n",
       "      <td>Fitted sheet in washed linen. Tumble-drying wi...</td>\n",
       "      <td>None</td>\n",
       "      <td>None</td>\n",
       "      <td>...</td>\n",
       "      <td>None</td>\n",
       "      <td>None</td>\n",
       "      <td>None</td>\n",
       "      <td>None</td>\n",
       "      <td>None</td>\n",
       "      <td>None</td>\n",
       "      <td>None</td>\n",
       "      <td>None</td>\n",
       "      <td>None</td>\n",
       "      <td>220426035422042603</td>\n",
       "    </tr>\n",
       "    <tr>\n",
       "      <th>2</th>\n",
       "      <td>0109599</td>\n",
       "      <td>0109599001</td>\n",
       "      <td>0109599</td>\n",
       "      <td>001</td>\n",
       "      <td>Linen fitted sheet</td>\n",
       "      <td>Linen fitted sheet</td>\n",
       "      <td>None</td>\n",
       "      <td>Fitted sheet in washed linen. Tumble-drying wi...</td>\n",
       "      <td>None</td>\n",
       "      <td>None</td>\n",
       "      <td>...</td>\n",
       "      <td>None</td>\n",
       "      <td>None</td>\n",
       "      <td>None</td>\n",
       "      <td>None</td>\n",
       "      <td>None</td>\n",
       "      <td>None</td>\n",
       "      <td>None</td>\n",
       "      <td>None</td>\n",
       "      <td>None</td>\n",
       "      <td>220426035422042603</td>\n",
       "    </tr>\n",
       "    <tr>\n",
       "      <th>3</th>\n",
       "      <td>0118152</td>\n",
       "      <td>0118152005</td>\n",
       "      <td>0118152</td>\n",
       "      <td>005</td>\n",
       "      <td>Valance</td>\n",
       "      <td>Cotton valance</td>\n",
       "      <td>None</td>\n",
       "      <td>Valance in sturdy cotton canvas with a cotton/...</td>\n",
       "      <td>None</td>\n",
       "      <td>None</td>\n",
       "      <td>...</td>\n",
       "      <td>None</td>\n",
       "      <td>None</td>\n",
       "      <td>None</td>\n",
       "      <td>None</td>\n",
       "      <td>None</td>\n",
       "      <td>None</td>\n",
       "      <td>None</td>\n",
       "      <td>None</td>\n",
       "      <td>None</td>\n",
       "      <td>220426035422042603</td>\n",
       "    </tr>\n",
       "    <tr>\n",
       "      <th>4</th>\n",
       "      <td>0118152</td>\n",
       "      <td>0118152001</td>\n",
       "      <td>0118152</td>\n",
       "      <td>001</td>\n",
       "      <td>Valance</td>\n",
       "      <td>Cotton valance</td>\n",
       "      <td>None</td>\n",
       "      <td>Valance in sturdy cotton canvas with a cotton/...</td>\n",
       "      <td>None</td>\n",
       "      <td>None</td>\n",
       "      <td>...</td>\n",
       "      <td>None</td>\n",
       "      <td>None</td>\n",
       "      <td>None</td>\n",
       "      <td>None</td>\n",
       "      <td>None</td>\n",
       "      <td>None</td>\n",
       "      <td>None</td>\n",
       "      <td>None</td>\n",
       "      <td>None</td>\n",
       "      <td>220426035422042603</td>\n",
       "    </tr>\n",
       "  </tbody>\n",
       "</table>\n",
       "<p>5 rows × 109 columns</p>\n",
       "</div>"
      ],
      "text/plain": [
       "  product_number product_article_code product_code article_code  \\\n",
       "0        0109599           0109599007      0109599          007   \n",
       "1        0109599           0109599006      0109599          006   \n",
       "2        0109599           0109599001      0109599          001   \n",
       "3        0118152           0118152005      0118152          005   \n",
       "4        0118152           0118152001      0118152          001   \n",
       "\n",
       "   product_name_short   product_name_long product_short_description  \\\n",
       "0  Linen fitted sheet  Linen fitted sheet                      None   \n",
       "1  Linen fitted sheet  Linen fitted sheet                      None   \n",
       "2  Linen fitted sheet  Linen fitted sheet                      None   \n",
       "3             Valance      Cotton valance                      None   \n",
       "4             Valance      Cotton valance                      None   \n",
       "\n",
       "                            product_long_description product_title_name  \\\n",
       "0  Fitted sheet in washed linen. Tumble-drying wi...               None   \n",
       "1  Fitted sheet in washed linen. Tumble-drying wi...               None   \n",
       "2  Fitted sheet in washed linen. Tumble-drying wi...               None   \n",
       "3  Valance in sturdy cotton canvas with a cotton/...               None   \n",
       "4  Valance in sturdy cotton canvas with a cotton/...               None   \n",
       "\n",
       "  product_collection  ... article_fragrance_family article_coverage  \\\n",
       "0               None  ...                     None             None   \n",
       "1               None  ...                     None             None   \n",
       "2               None  ...                     None             None   \n",
       "3               None  ...                     None             None   \n",
       "4               None  ...                     None             None   \n",
       "\n",
       "  article_skin_tone article_finish article_key_ingredients article_spf  \\\n",
       "0              None           None                    None        None   \n",
       "1              None           None                    None        None   \n",
       "2              None           None                    None        None   \n",
       "3              None           None                    None        None   \n",
       "4              None           None                    None        None   \n",
       "\n",
       "  article_hair_type article_external_colour_id article_sustainability_details  \\\n",
       "0              None                       None                           None   \n",
       "1              None                       None                           None   \n",
       "2              None                       None                           None   \n",
       "3              None                       None                           None   \n",
       "4              None                       None                           None   \n",
       "\n",
       "          hdl_load_id  \n",
       "0  220426035422042603  \n",
       "1  220426035422042603  \n",
       "2  220426035422042603  \n",
       "3  220426035422042603  \n",
       "4  220426035422042603  \n",
       "\n",
       "[5 rows x 109 columns]"
      ]
     },
     "execution_count": 8,
     "metadata": {},
     "output_type": "execute_result"
    }
   ],
   "source": [
    "pim = pd.read_parquet(\"dim_pim\")\n",
    "print(pim.shape)\n",
    "pim.head()"
   ]
  },
  {
   "cell_type": "code",
   "execution_count": 9,
   "id": "eda2290a-5c1b-4cc9-a382-8e5669fa1fb8",
   "metadata": {},
   "outputs": [
    {
     "data": {
      "text/plain": [
       "fitted                            8509\n",
       "regularfit                        5324\n",
       "slimfit                           4541\n",
       "oversized                         4170\n",
       "skinnyfit                         2824\n",
       "relaxedfit                        2471\n",
       "loosefit                          1973\n",
       "superskinnyfit                     980\n",
       "musclefit                          334\n",
       "[\"regularfit\",\"skinnyfit\"]           6\n",
       "[\"loosefit\",\"oversized\"]             4\n",
       "[\"relaxedfit\",\"skinnyfit\"]           2\n",
       "[\"loosefit\",\"slimfit\"]               2\n",
       "[\"fitted\",\"oversized\"]               2\n",
       "[\"skinnyfit\",\"superskinnyfit\"]       1\n",
       "[\"loosefit\",\"regularfit\"]            1\n",
       "[\"regularfit\",\"relaxedfit\"]          1\n",
       "Name: product_fit, dtype: int64"
      ]
     },
     "execution_count": 9,
     "metadata": {},
     "output_type": "execute_result"
    }
   ],
   "source": [
    "pim[\"product_fit\"].value_counts()"
   ]
  },
  {
   "cell_type": "code",
   "execution_count": 10,
   "id": "909b7ae6-68d3-41a8-aea9-465a6fb705ca",
   "metadata": {
    "tags": []
   },
   "outputs": [
    {
     "data": {
      "text/plain": [
       "(274924, 3)"
      ]
     },
     "execution_count": 10,
     "metadata": {},
     "output_type": "execute_result"
    }
   ],
   "source": [
    "pim = pim[[\"product_code\", \"article_code\", \"product_fit\"]].drop_duplicates()\n",
    "pim.shape"
   ]
  },
  {
   "cell_type": "code",
   "execution_count": 11,
   "id": "6cf3df48-681d-4371-aca2-6c814ef9868d",
   "metadata": {},
   "outputs": [
    {
     "data": {
      "text/plain": [
       "product_code    False\n",
       "article_code     True\n",
       "product_fit      True\n",
       "dtype: bool"
      ]
     },
     "execution_count": 11,
     "metadata": {},
     "output_type": "execute_result"
    }
   ],
   "source": [
    "pim.isna().any()"
   ]
  },
  {
   "cell_type": "code",
   "execution_count": 12,
   "id": "c08c5454-3be7-4bee-9f3a-bacecd17ad5a",
   "metadata": {},
   "outputs": [
    {
     "name": "stdout",
     "output_type": "stream",
     "text": [
      "(31099, 3)\n"
     ]
    },
    {
     "data": {
      "text/html": [
       "<div>\n",
       "<style scoped>\n",
       "    .dataframe tbody tr th:only-of-type {\n",
       "        vertical-align: middle;\n",
       "    }\n",
       "\n",
       "    .dataframe tbody tr th {\n",
       "        vertical-align: top;\n",
       "    }\n",
       "\n",
       "    .dataframe thead th {\n",
       "        text-align: right;\n",
       "    }\n",
       "</style>\n",
       "<table border=\"1\" class=\"dataframe\">\n",
       "  <thead>\n",
       "    <tr style=\"text-align: right;\">\n",
       "      <th></th>\n",
       "      <th>product_code</th>\n",
       "      <th>article_code</th>\n",
       "      <th>product_fit</th>\n",
       "    </tr>\n",
       "  </thead>\n",
       "  <tbody>\n",
       "    <tr>\n",
       "      <th>93</th>\n",
       "      <td>0225618</td>\n",
       "      <td>019</td>\n",
       "      <td>fitted</td>\n",
       "    </tr>\n",
       "    <tr>\n",
       "      <th>94</th>\n",
       "      <td>0225618</td>\n",
       "      <td>017</td>\n",
       "      <td>fitted</td>\n",
       "    </tr>\n",
       "    <tr>\n",
       "      <th>122</th>\n",
       "      <td>0238230</td>\n",
       "      <td>001</td>\n",
       "      <td>fitted</td>\n",
       "    </tr>\n",
       "    <tr>\n",
       "      <th>130</th>\n",
       "      <td>0251087</td>\n",
       "      <td>001</td>\n",
       "      <td>slimfit</td>\n",
       "    </tr>\n",
       "    <tr>\n",
       "      <th>131</th>\n",
       "      <td>0251087</td>\n",
       "      <td>002</td>\n",
       "      <td>slimfit</td>\n",
       "    </tr>\n",
       "  </tbody>\n",
       "</table>\n",
       "</div>"
      ],
      "text/plain": [
       "    product_code article_code product_fit\n",
       "93       0225618          019      fitted\n",
       "94       0225618          017      fitted\n",
       "122      0238230          001      fitted\n",
       "130      0251087          001     slimfit\n",
       "131      0251087          002     slimfit"
      ]
     },
     "execution_count": 12,
     "metadata": {},
     "output_type": "execute_result"
    }
   ],
   "source": [
    "pim = pim.dropna(axis=0, subset=[\"article_code\", \"product_fit\"])\n",
    "print(pim.shape)\n",
    "pim.head()"
   ]
  },
  {
   "cell_type": "code",
   "execution_count": 13,
   "id": "2632d57f-3a75-42ce-aa47-18a4fa1f6a7c",
   "metadata": {},
   "outputs": [
    {
     "data": {
      "text/plain": [
       "product_code    False\n",
       "article_code    False\n",
       "product_fit     False\n",
       "dtype: bool"
      ]
     },
     "execution_count": 13,
     "metadata": {},
     "output_type": "execute_result"
    }
   ],
   "source": [
    "pim.isna().any()"
   ]
  },
  {
   "cell_type": "code",
   "execution_count": 14,
   "id": "2bbd637c-ab34-432b-80f5-671477214a98",
   "metadata": {},
   "outputs": [
    {
     "name": "stdout",
     "output_type": "stream",
     "text": [
      "(31099, 4)\n"
     ]
    },
    {
     "data": {
      "text/html": [
       "<div>\n",
       "<style scoped>\n",
       "    .dataframe tbody tr th:only-of-type {\n",
       "        vertical-align: middle;\n",
       "    }\n",
       "\n",
       "    .dataframe tbody tr th {\n",
       "        vertical-align: top;\n",
       "    }\n",
       "\n",
       "    .dataframe thead th {\n",
       "        text-align: right;\n",
       "    }\n",
       "</style>\n",
       "<table border=\"1\" class=\"dataframe\">\n",
       "  <thead>\n",
       "    <tr style=\"text-align: right;\">\n",
       "      <th></th>\n",
       "      <th>product_code</th>\n",
       "      <th>article_code</th>\n",
       "      <th>product_fit</th>\n",
       "      <th>castor</th>\n",
       "    </tr>\n",
       "  </thead>\n",
       "  <tbody>\n",
       "    <tr>\n",
       "      <th>0</th>\n",
       "      <td>0225618</td>\n",
       "      <td>019</td>\n",
       "      <td>fitted</td>\n",
       "      <td>225618019</td>\n",
       "    </tr>\n",
       "    <tr>\n",
       "      <th>1</th>\n",
       "      <td>0225618</td>\n",
       "      <td>017</td>\n",
       "      <td>fitted</td>\n",
       "      <td>225618017</td>\n",
       "    </tr>\n",
       "    <tr>\n",
       "      <th>2</th>\n",
       "      <td>0238230</td>\n",
       "      <td>001</td>\n",
       "      <td>fitted</td>\n",
       "      <td>238230001</td>\n",
       "    </tr>\n",
       "    <tr>\n",
       "      <th>3</th>\n",
       "      <td>0251087</td>\n",
       "      <td>001</td>\n",
       "      <td>slimfit</td>\n",
       "      <td>251087001</td>\n",
       "    </tr>\n",
       "    <tr>\n",
       "      <th>4</th>\n",
       "      <td>0251087</td>\n",
       "      <td>002</td>\n",
       "      <td>slimfit</td>\n",
       "      <td>251087002</td>\n",
       "    </tr>\n",
       "  </tbody>\n",
       "</table>\n",
       "</div>"
      ],
      "text/plain": [
       "  product_code article_code product_fit     castor\n",
       "0      0225618          019      fitted  225618019\n",
       "1      0225618          017      fitted  225618017\n",
       "2      0238230          001      fitted  238230001\n",
       "3      0251087          001     slimfit  251087001\n",
       "4      0251087          002     slimfit  251087002"
      ]
     },
     "execution_count": 14,
     "metadata": {},
     "output_type": "execute_result"
    }
   ],
   "source": [
    "data = pim.merge(padma, on=[\"product_code\", \"article_code\"], how=\"left\")\n",
    "print(data.shape)\n",
    "data.head()"
   ]
  },
  {
   "cell_type": "code",
   "execution_count": 15,
   "id": "117e2e2e-a574-4456-8446-e5715e8cd3ea",
   "metadata": {},
   "outputs": [
    {
     "data": {
      "text/plain": [
       "product_code    object\n",
       "article_code    object\n",
       "product_fit     object\n",
       "castor           int64\n",
       "dtype: object"
      ]
     },
     "execution_count": 15,
     "metadata": {},
     "output_type": "execute_result"
    }
   ],
   "source": [
    "data.dtypes"
   ]
  },
  {
   "cell_type": "code",
   "execution_count": 16,
   "id": "02b9810c-f3c2-42da-a9b1-9f809efa03a5",
   "metadata": {},
   "outputs": [
    {
     "name": "stdout",
     "output_type": "stream",
     "text": [
      "(31080, 4)\n"
     ]
    },
    {
     "data": {
      "text/html": [
       "<div>\n",
       "<style scoped>\n",
       "    .dataframe tbody tr th:only-of-type {\n",
       "        vertical-align: middle;\n",
       "    }\n",
       "\n",
       "    .dataframe tbody tr th {\n",
       "        vertical-align: top;\n",
       "    }\n",
       "\n",
       "    .dataframe thead th {\n",
       "        text-align: right;\n",
       "    }\n",
       "</style>\n",
       "<table border=\"1\" class=\"dataframe\">\n",
       "  <thead>\n",
       "    <tr style=\"text-align: right;\">\n",
       "      <th></th>\n",
       "      <th>product_code</th>\n",
       "      <th>article_code</th>\n",
       "      <th>product_fit</th>\n",
       "      <th>castor</th>\n",
       "    </tr>\n",
       "  </thead>\n",
       "  <tbody>\n",
       "    <tr>\n",
       "      <th>0</th>\n",
       "      <td>0225618</td>\n",
       "      <td>019</td>\n",
       "      <td>fitted</td>\n",
       "      <td>225618019</td>\n",
       "    </tr>\n",
       "    <tr>\n",
       "      <th>1</th>\n",
       "      <td>0225618</td>\n",
       "      <td>017</td>\n",
       "      <td>fitted</td>\n",
       "      <td>225618017</td>\n",
       "    </tr>\n",
       "    <tr>\n",
       "      <th>2</th>\n",
       "      <td>0238230</td>\n",
       "      <td>001</td>\n",
       "      <td>fitted</td>\n",
       "      <td>238230001</td>\n",
       "    </tr>\n",
       "    <tr>\n",
       "      <th>3</th>\n",
       "      <td>0251087</td>\n",
       "      <td>001</td>\n",
       "      <td>slimfit</td>\n",
       "      <td>251087001</td>\n",
       "    </tr>\n",
       "    <tr>\n",
       "      <th>4</th>\n",
       "      <td>0251087</td>\n",
       "      <td>002</td>\n",
       "      <td>slimfit</td>\n",
       "      <td>251087002</td>\n",
       "    </tr>\n",
       "  </tbody>\n",
       "</table>\n",
       "</div>"
      ],
      "text/plain": [
       "  product_code article_code product_fit     castor\n",
       "0      0225618          019      fitted  225618019\n",
       "1      0225618          017      fitted  225618017\n",
       "2      0238230          001      fitted  238230001\n",
       "3      0251087          001     slimfit  251087001\n",
       "4      0251087          002     slimfit  251087002"
      ]
     },
     "execution_count": 16,
     "metadata": {},
     "output_type": "execute_result"
    }
   ],
   "source": [
    "data = data[~data[\"product_fit\"].str.contains(\"[\", regex=False)]\n",
    "print(data.shape)\n",
    "data.head()"
   ]
  },
  {
   "cell_type": "code",
   "execution_count": 17,
   "id": "f4482cfe-b014-471c-8694-ebc195d72671",
   "metadata": {},
   "outputs": [
    {
     "data": {
      "text/plain": [
       "product_code    False\n",
       "article_code    False\n",
       "product_fit     False\n",
       "castor          False\n",
       "dtype: bool"
      ]
     },
     "execution_count": 17,
     "metadata": {},
     "output_type": "execute_result"
    }
   ],
   "source": [
    "data.isna().any()"
   ]
  },
  {
   "cell_type": "code",
   "execution_count": 18,
   "id": "273b270f-73ef-4c43-9228-1b31b7f4c5dd",
   "metadata": {},
   "outputs": [
    {
     "data": {
      "text/plain": [
       "(31080, 2)"
      ]
     },
     "execution_count": 18,
     "metadata": {},
     "output_type": "execute_result"
    }
   ],
   "source": [
    "data = data.drop(axis=1, labels=[\"product_code\", \"article_code\"])\n",
    "data.shape"
   ]
  },
  {
   "cell_type": "code",
   "execution_count": 19,
   "id": "aca5b92a-2ea4-45e5-95de-ff9d9e560ad2",
   "metadata": {},
   "outputs": [
    {
     "name": "stdout",
     "output_type": "stream",
     "text": [
      "(289484, 2)\n"
     ]
    },
    {
     "data": {
      "text/html": [
       "<div>\n",
       "<style scoped>\n",
       "    .dataframe tbody tr th:only-of-type {\n",
       "        vertical-align: middle;\n",
       "    }\n",
       "\n",
       "    .dataframe tbody tr th {\n",
       "        vertical-align: top;\n",
       "    }\n",
       "\n",
       "    .dataframe thead th {\n",
       "        text-align: right;\n",
       "    }\n",
       "</style>\n",
       "<table border=\"1\" class=\"dataframe\">\n",
       "  <thead>\n",
       "    <tr style=\"text-align: right;\">\n",
       "      <th></th>\n",
       "      <th>path</th>\n",
       "      <th>castor</th>\n",
       "    </tr>\n",
       "  </thead>\n",
       "  <tbody>\n",
       "    <tr>\n",
       "      <th>0</th>\n",
       "      <td>large/environmental/1108541001.jpg</td>\n",
       "      <td>1108541001</td>\n",
       "    </tr>\n",
       "    <tr>\n",
       "      <th>1</th>\n",
       "      <td>large/environmental/1011014001.jpg</td>\n",
       "      <td>1011014001</td>\n",
       "    </tr>\n",
       "    <tr>\n",
       "      <th>2</th>\n",
       "      <td>large/environmental/1116552001.jpg</td>\n",
       "      <td>1116552001</td>\n",
       "    </tr>\n",
       "    <tr>\n",
       "      <th>3</th>\n",
       "      <td>large/environmental/1025923001.jpg</td>\n",
       "      <td>1025923001</td>\n",
       "    </tr>\n",
       "    <tr>\n",
       "      <th>4</th>\n",
       "      <td>large/environmental/1094597001.jpg</td>\n",
       "      <td>1094597001</td>\n",
       "    </tr>\n",
       "  </tbody>\n",
       "</table>\n",
       "</div>"
      ],
      "text/plain": [
       "                                 path      castor\n",
       "0  large/environmental/1108541001.jpg  1108541001\n",
       "1  large/environmental/1011014001.jpg  1011014001\n",
       "2  large/environmental/1116552001.jpg  1116552001\n",
       "3  large/environmental/1025923001.jpg  1025923001\n",
       "4  large/environmental/1094597001.jpg  1094597001"
      ]
     },
     "execution_count": 19,
     "metadata": {},
     "output_type": "execute_result"
    }
   ],
   "source": [
    "castors = pd.read_csv(\"castors.csv\")\n",
    "print(castors.shape)\n",
    "castors.head()"
   ]
  },
  {
   "cell_type": "code",
   "execution_count": 20,
   "id": "9eecf29f-a81b-44f3-bd24-4e854f7cc353",
   "metadata": {},
   "outputs": [
    {
     "data": {
      "text/plain": [
       "path      object\n",
       "castor     int64\n",
       "dtype: object"
      ]
     },
     "execution_count": 20,
     "metadata": {},
     "output_type": "execute_result"
    }
   ],
   "source": [
    "castors.dtypes"
   ]
  },
  {
   "cell_type": "code",
   "execution_count": 21,
   "id": "e56992f9-8698-4546-9642-be61f1bd50bd",
   "metadata": {},
   "outputs": [
    {
     "name": "stdout",
     "output_type": "stream",
     "text": [
      "(71315, 3)\n"
     ]
    },
    {
     "data": {
      "text/html": [
       "<div>\n",
       "<style scoped>\n",
       "    .dataframe tbody tr th:only-of-type {\n",
       "        vertical-align: middle;\n",
       "    }\n",
       "\n",
       "    .dataframe tbody tr th {\n",
       "        vertical-align: top;\n",
       "    }\n",
       "\n",
       "    .dataframe thead th {\n",
       "        text-align: right;\n",
       "    }\n",
       "</style>\n",
       "<table border=\"1\" class=\"dataframe\">\n",
       "  <thead>\n",
       "    <tr style=\"text-align: right;\">\n",
       "      <th></th>\n",
       "      <th>path</th>\n",
       "      <th>castor</th>\n",
       "      <th>product_fit</th>\n",
       "    </tr>\n",
       "  </thead>\n",
       "  <tbody>\n",
       "    <tr>\n",
       "      <th>0</th>\n",
       "      <td>large/environmental/1025399011.jpg</td>\n",
       "      <td>1025399011</td>\n",
       "      <td>regularfit</td>\n",
       "    </tr>\n",
       "    <tr>\n",
       "      <th>1</th>\n",
       "      <td>large/descriptiveDetail/1025399011.jpg</td>\n",
       "      <td>1025399011</td>\n",
       "      <td>regularfit</td>\n",
       "    </tr>\n",
       "    <tr>\n",
       "      <th>2</th>\n",
       "      <td>large/descriptiveStillLife/1025399011.jpg</td>\n",
       "      <td>1025399011</td>\n",
       "      <td>regularfit</td>\n",
       "    </tr>\n",
       "    <tr>\n",
       "      <th>3</th>\n",
       "      <td>large/lookbook/1025399011.jpg</td>\n",
       "      <td>1025399011</td>\n",
       "      <td>regularfit</td>\n",
       "    </tr>\n",
       "    <tr>\n",
       "      <th>4</th>\n",
       "      <td>extraSmall/environmental/1025399011.jpg</td>\n",
       "      <td>1025399011</td>\n",
       "      <td>regularfit</td>\n",
       "    </tr>\n",
       "  </tbody>\n",
       "</table>\n",
       "</div>"
      ],
      "text/plain": [
       "                                        path      castor product_fit\n",
       "0         large/environmental/1025399011.jpg  1025399011  regularfit\n",
       "1     large/descriptiveDetail/1025399011.jpg  1025399011  regularfit\n",
       "2  large/descriptiveStillLife/1025399011.jpg  1025399011  regularfit\n",
       "3              large/lookbook/1025399011.jpg  1025399011  regularfit\n",
       "4    extraSmall/environmental/1025399011.jpg  1025399011  regularfit"
      ]
     },
     "execution_count": 21,
     "metadata": {},
     "output_type": "execute_result"
    }
   ],
   "source": [
    "out = castors.merge(data, on=\"castor\", how=\"inner\")\n",
    "print(out.shape)\n",
    "out.head()"
   ]
  },
  {
   "cell_type": "code",
   "execution_count": 22,
   "id": "003affe5-6a77-4544-94c8-f0fcaf9d0920",
   "metadata": {},
   "outputs": [
    {
     "data": {
      "text/plain": [
       "path           False\n",
       "castor         False\n",
       "product_fit    False\n",
       "dtype: bool"
      ]
     },
     "execution_count": 22,
     "metadata": {},
     "output_type": "execute_result"
    }
   ],
   "source": [
    "out.isna().any()"
   ]
  },
  {
   "cell_type": "code",
   "execution_count": 23,
   "id": "bb093509-d824-43a9-811f-04174735d560",
   "metadata": {},
   "outputs": [
    {
     "data": {
      "text/plain": [
       "(6223,)"
      ]
     },
     "execution_count": 23,
     "metadata": {},
     "output_type": "execute_result"
    }
   ],
   "source": [
    "out.castor.unique().shape"
   ]
  },
  {
   "cell_type": "code",
   "execution_count": 24,
   "id": "90c131da-e6f7-4f00-ad4e-24fe1238f6e8",
   "metadata": {},
   "outputs": [
    {
     "data": {
      "text/plain": [
       "path           object\n",
       "castor          int64\n",
       "product_fit    object\n",
       "dtype: object"
      ]
     },
     "execution_count": 24,
     "metadata": {},
     "output_type": "execute_result"
    }
   ],
   "source": [
    "out.dtypes"
   ]
  },
  {
   "cell_type": "code",
   "execution_count": 25,
   "id": "dac0c7e1-aea0-47fc-b62c-2f7edb384e0d",
   "metadata": {},
   "outputs": [
    {
     "data": {
      "text/plain": [
       "oversized         14580\n",
       "regularfit        13766\n",
       "relaxedfit        13445\n",
       "fitted            13158\n",
       "loosefit           9281\n",
       "slimfit            4901\n",
       "skinnyfit          1672\n",
       "musclefit           340\n",
       "superskinnyfit      172\n",
       "Name: product_fit, dtype: int64"
      ]
     },
     "execution_count": 25,
     "metadata": {},
     "output_type": "execute_result"
    }
   ],
   "source": [
    "out[\"product_fit\"].value_counts()"
   ]
  },
  {
   "cell_type": "code",
   "execution_count": 26,
   "id": "07ed38a3-3d24-4ca7-9424-3a82a48e57a2",
   "metadata": {},
   "outputs": [
    {
     "name": "stdout",
     "output_type": "stream",
     "text": [
      "(71315, 4)\n"
     ]
    },
    {
     "data": {
      "text/html": [
       "<div>\n",
       "<style scoped>\n",
       "    .dataframe tbody tr th:only-of-type {\n",
       "        vertical-align: middle;\n",
       "    }\n",
       "\n",
       "    .dataframe tbody tr th {\n",
       "        vertical-align: top;\n",
       "    }\n",
       "\n",
       "    .dataframe thead th {\n",
       "        text-align: right;\n",
       "    }\n",
       "</style>\n",
       "<table border=\"1\" class=\"dataframe\">\n",
       "  <thead>\n",
       "    <tr style=\"text-align: right;\">\n",
       "      <th></th>\n",
       "      <th>path</th>\n",
       "      <th>castor</th>\n",
       "      <th>product_fit</th>\n",
       "      <th>labels</th>\n",
       "    </tr>\n",
       "  </thead>\n",
       "  <tbody>\n",
       "    <tr>\n",
       "      <th>0</th>\n",
       "      <td>large/environmental/1025399011.jpg</td>\n",
       "      <td>1025399011</td>\n",
       "      <td>regularfit</td>\n",
       "      <td>4</td>\n",
       "    </tr>\n",
       "    <tr>\n",
       "      <th>1</th>\n",
       "      <td>large/descriptiveDetail/1025399011.jpg</td>\n",
       "      <td>1025399011</td>\n",
       "      <td>regularfit</td>\n",
       "      <td>4</td>\n",
       "    </tr>\n",
       "    <tr>\n",
       "      <th>2</th>\n",
       "      <td>large/descriptiveStillLife/1025399011.jpg</td>\n",
       "      <td>1025399011</td>\n",
       "      <td>regularfit</td>\n",
       "      <td>4</td>\n",
       "    </tr>\n",
       "    <tr>\n",
       "      <th>3</th>\n",
       "      <td>large/lookbook/1025399011.jpg</td>\n",
       "      <td>1025399011</td>\n",
       "      <td>regularfit</td>\n",
       "      <td>4</td>\n",
       "    </tr>\n",
       "    <tr>\n",
       "      <th>4</th>\n",
       "      <td>extraSmall/environmental/1025399011.jpg</td>\n",
       "      <td>1025399011</td>\n",
       "      <td>regularfit</td>\n",
       "      <td>4</td>\n",
       "    </tr>\n",
       "  </tbody>\n",
       "</table>\n",
       "</div>"
      ],
      "text/plain": [
       "                                        path      castor product_fit  labels\n",
       "0         large/environmental/1025399011.jpg  1025399011  regularfit       4\n",
       "1     large/descriptiveDetail/1025399011.jpg  1025399011  regularfit       4\n",
       "2  large/descriptiveStillLife/1025399011.jpg  1025399011  regularfit       4\n",
       "3              large/lookbook/1025399011.jpg  1025399011  regularfit       4\n",
       "4    extraSmall/environmental/1025399011.jpg  1025399011  regularfit       4"
      ]
     },
     "execution_count": 26,
     "metadata": {},
     "output_type": "execute_result"
    }
   ],
   "source": [
    "out[\"labels\"] = out[\"product_fit\"].astype(\"category\").cat.codes\n",
    "print(out.shape)\n",
    "out.head()"
   ]
  },
  {
   "cell_type": "code",
   "execution_count": 27,
   "id": "5e756edc-0a3a-49d2-b916-e4f8a0e94ba9",
   "metadata": {},
   "outputs": [
    {
     "data": {
      "text/plain": [
       "3    14580\n",
       "4    13766\n",
       "5    13445\n",
       "0    13158\n",
       "1     9281\n",
       "7     4901\n",
       "6     1672\n",
       "2      340\n",
       "8      172\n",
       "Name: labels, dtype: int64"
      ]
     },
     "execution_count": 27,
     "metadata": {},
     "output_type": "execute_result"
    }
   ],
   "source": [
    "out.labels.value_counts()"
   ]
  },
  {
   "cell_type": "markdown",
   "id": "e158197e-aa82-4164-88fa-9ba4e8498f28",
   "metadata": {},
   "source": [
    "# Split data"
   ]
  },
  {
   "cell_type": "code",
   "execution_count": 29,
   "id": "45035001-bc9c-4764-8e5e-b0e441de01e8",
   "metadata": {},
   "outputs": [],
   "source": [
    "cv = StratifiedGroupKFold(n_splits=2)"
   ]
  },
  {
   "cell_type": "code",
   "execution_count": 74,
   "id": "796fdb8f-fe62-41a8-9445-f61564112e6e",
   "metadata": {
    "scrolled": true,
    "tags": []
   },
   "outputs": [
    {
     "name": "stdout",
     "output_type": "stream",
     "text": [
      "TRAIN: 0        1025399011\n",
      "1        1025399011\n",
      "2        1025399011\n",
      "3        1025399011\n",
      "4        1025399011\n",
      "            ...    \n",
      "71302    1003931005\n",
      "71307    1062013006\n",
      "71308    1062013006\n",
      "71309    1062013006\n",
      "71310    1062013006\n",
      "Name: castor, Length: 35656, dtype: int64 0        4\n",
      "1        4\n",
      "2        4\n",
      "3        4\n",
      "4        4\n",
      "        ..\n",
      "71302    5\n",
      "71307    5\n",
      "71308    5\n",
      "71309    5\n",
      "71310    5\n",
      "Name: labels, Length: 35656, dtype: int8\n",
      " TEST: 16       1032693001\n",
      "17       1032693001\n",
      "18       1032693001\n",
      "19       1032693001\n",
      "20       1032693001\n",
      "            ...    \n",
      "71306    1065327002\n",
      "71311    1067474002\n",
      "71312    1067474002\n",
      "71313    1067474003\n",
      "71314    1067474003\n",
      "Name: castor, Length: 35659, dtype: int64 16       1\n",
      "17       1\n",
      "18       1\n",
      "19       1\n",
      "20       1\n",
      "        ..\n",
      "71306    4\n",
      "71311    5\n",
      "71312    5\n",
      "71313    5\n",
      "71314    5\n",
      "Name: labels, Length: 35659, dtype: int8\n"
     ]
    }
   ],
   "source": [
    "train_idxs, test_idxs = next(cv.split(out.path, out.labels, out.castor))\n",
    "print(\"TRAIN:\", out.castor[train_idxs], out.labels[train_idxs])\n",
    "print(\" TEST:\", out.castor[test_idxs], out.labels[test_idxs])"
   ]
  },
  {
   "cell_type": "code",
   "execution_count": 75,
   "id": "3c2c5507-16c1-488d-88e9-2df4ad02fccf",
   "metadata": {},
   "outputs": [
    {
     "data": {
      "text/plain": [
       "35656"
      ]
     },
     "execution_count": 75,
     "metadata": {},
     "output_type": "execute_result"
    }
   ],
   "source": [
    "len(train_idxs)"
   ]
  },
  {
   "cell_type": "code",
   "execution_count": 76,
   "id": "9ebbccb0-7819-41dc-93b4-1497c1b33fd0",
   "metadata": {},
   "outputs": [
    {
     "data": {
      "text/plain": [
       "35659"
      ]
     },
     "execution_count": 76,
     "metadata": {},
     "output_type": "execute_result"
    }
   ],
   "source": [
    "len(test_idxs)"
   ]
  },
  {
   "cell_type": "markdown",
   "id": "ccf9df3c-e8f1-42f9-9c77-4dafac860e17",
   "metadata": {},
   "source": [
    "# Write data"
   ]
  },
  {
   "cell_type": "code",
   "execution_count": 44,
   "id": "d762eb07-e4f1-4028-94da-fa5375e77e83",
   "metadata": {},
   "outputs": [],
   "source": [
    "train_fit = out.iloc[train_idxs, :]\n",
    "test_fit = out.iloc[test_idxs, :]"
   ]
  },
  {
   "cell_type": "code",
   "execution_count": 47,
   "id": "f39835c7-e3a2-4050-a703-b5fe836e8cdc",
   "metadata": {},
   "outputs": [],
   "source": [
    "out.to_csv(\"full_fit.csv\", index=False)\n",
    "\n",
    "train_fit.to_csv(\"./train.csv\", index=False)\n",
    "test_fit.to_csv(\"./test.csv\", index=False)"
   ]
  },
  {
   "cell_type": "code",
   "execution_count": 68,
   "id": "0d03f62c-5ca3-4418-809a-777108e53315",
   "metadata": {},
   "outputs": [],
   "source": [
    "out_gcp = out[[\"path\", \"product_fit\"]].copy()\n",
    "out_gcp[\"path\"] = \"gs://hm-images-bucket/images/\" + out_gcp[\"path\"]"
   ]
  },
  {
   "cell_type": "code",
   "execution_count": 69,
   "id": "eb4805d3-c615-4ac1-97c8-7ed85b319e26",
   "metadata": {},
   "outputs": [],
   "source": [
    "out_gcp[\"mode\"] = \"VALIDATION\"\n",
    "out_gcp.loc[train_idxs, \"mode\"] = \"TRAINING\""
   ]
  },
  {
   "cell_type": "code",
   "execution_count": 70,
   "id": "cb2a114b-dadd-4588-80ac-d650fe7f28bc",
   "metadata": {},
   "outputs": [
    {
     "data": {
      "text/html": [
       "<div>\n",
       "<style scoped>\n",
       "    .dataframe tbody tr th:only-of-type {\n",
       "        vertical-align: middle;\n",
       "    }\n",
       "\n",
       "    .dataframe tbody tr th {\n",
       "        vertical-align: top;\n",
       "    }\n",
       "\n",
       "    .dataframe thead th {\n",
       "        text-align: right;\n",
       "    }\n",
       "</style>\n",
       "<table border=\"1\" class=\"dataframe\">\n",
       "  <thead>\n",
       "    <tr style=\"text-align: right;\">\n",
       "      <th></th>\n",
       "      <th>mode</th>\n",
       "      <th>path</th>\n",
       "      <th>product_fit</th>\n",
       "    </tr>\n",
       "  </thead>\n",
       "  <tbody>\n",
       "    <tr>\n",
       "      <th>0</th>\n",
       "      <td>VALIDATION</td>\n",
       "      <td>gs://hm-images-bucket/images/large/environment...</td>\n",
       "      <td>regularfit</td>\n",
       "    </tr>\n",
       "    <tr>\n",
       "      <th>1</th>\n",
       "      <td>VALIDATION</td>\n",
       "      <td>gs://hm-images-bucket/images/large/descriptive...</td>\n",
       "      <td>regularfit</td>\n",
       "    </tr>\n",
       "    <tr>\n",
       "      <th>2</th>\n",
       "      <td>VALIDATION</td>\n",
       "      <td>gs://hm-images-bucket/images/large/descriptive...</td>\n",
       "      <td>regularfit</td>\n",
       "    </tr>\n",
       "    <tr>\n",
       "      <th>3</th>\n",
       "      <td>VALIDATION</td>\n",
       "      <td>gs://hm-images-bucket/images/large/lookbook/10...</td>\n",
       "      <td>regularfit</td>\n",
       "    </tr>\n",
       "    <tr>\n",
       "      <th>4</th>\n",
       "      <td>VALIDATION</td>\n",
       "      <td>gs://hm-images-bucket/images/extraSmall/enviro...</td>\n",
       "      <td>regularfit</td>\n",
       "    </tr>\n",
       "    <tr>\n",
       "      <th>...</th>\n",
       "      <td>...</td>\n",
       "      <td>...</td>\n",
       "      <td>...</td>\n",
       "    </tr>\n",
       "    <tr>\n",
       "      <th>71310</th>\n",
       "      <td>VALIDATION</td>\n",
       "      <td>gs://hm-images-bucket/images/extraLarge/lookbo...</td>\n",
       "      <td>relaxedfit</td>\n",
       "    </tr>\n",
       "    <tr>\n",
       "      <th>71311</th>\n",
       "      <td>TRAINING</td>\n",
       "      <td>gs://hm-images-bucket/images/extraLarge/descri...</td>\n",
       "      <td>relaxedfit</td>\n",
       "    </tr>\n",
       "    <tr>\n",
       "      <th>71312</th>\n",
       "      <td>TRAINING</td>\n",
       "      <td>gs://hm-images-bucket/images/extraLarge/descri...</td>\n",
       "      <td>relaxedfit</td>\n",
       "    </tr>\n",
       "    <tr>\n",
       "      <th>71313</th>\n",
       "      <td>TRAINING</td>\n",
       "      <td>gs://hm-images-bucket/images/extraLarge/descri...</td>\n",
       "      <td>relaxedfit</td>\n",
       "    </tr>\n",
       "    <tr>\n",
       "      <th>71314</th>\n",
       "      <td>TRAINING</td>\n",
       "      <td>gs://hm-images-bucket/images/extraLarge/descri...</td>\n",
       "      <td>relaxedfit</td>\n",
       "    </tr>\n",
       "  </tbody>\n",
       "</table>\n",
       "<p>71315 rows × 3 columns</p>\n",
       "</div>"
      ],
      "text/plain": [
       "             mode                                               path  \\\n",
       "0      VALIDATION  gs://hm-images-bucket/images/large/environment...   \n",
       "1      VALIDATION  gs://hm-images-bucket/images/large/descriptive...   \n",
       "2      VALIDATION  gs://hm-images-bucket/images/large/descriptive...   \n",
       "3      VALIDATION  gs://hm-images-bucket/images/large/lookbook/10...   \n",
       "4      VALIDATION  gs://hm-images-bucket/images/extraSmall/enviro...   \n",
       "...           ...                                                ...   \n",
       "71310  VALIDATION  gs://hm-images-bucket/images/extraLarge/lookbo...   \n",
       "71311    TRAINING  gs://hm-images-bucket/images/extraLarge/descri...   \n",
       "71312    TRAINING  gs://hm-images-bucket/images/extraLarge/descri...   \n",
       "71313    TRAINING  gs://hm-images-bucket/images/extraLarge/descri...   \n",
       "71314    TRAINING  gs://hm-images-bucket/images/extraLarge/descri...   \n",
       "\n",
       "      product_fit  \n",
       "0      regularfit  \n",
       "1      regularfit  \n",
       "2      regularfit  \n",
       "3      regularfit  \n",
       "4      regularfit  \n",
       "...           ...  \n",
       "71310  relaxedfit  \n",
       "71311  relaxedfit  \n",
       "71312  relaxedfit  \n",
       "71313  relaxedfit  \n",
       "71314  relaxedfit  \n",
       "\n",
       "[71315 rows x 3 columns]"
      ]
     },
     "execution_count": 70,
     "metadata": {},
     "output_type": "execute_result"
    }
   ],
   "source": [
    "out_gcp = out_gcp[[\"mode\", \"path\", \"product_fit\"]]\n",
    "out_gcp"
   ]
  },
  {
   "cell_type": "code",
   "execution_count": 71,
   "id": "6418c737-55a3-4ee9-bf57-8d09dc5135c8",
   "metadata": {},
   "outputs": [
    {
     "data": {
      "text/plain": [
       "(71315, 3)"
      ]
     },
     "execution_count": 71,
     "metadata": {},
     "output_type": "execute_result"
    }
   ],
   "source": [
    "out_gcp.shape"
   ]
  },
  {
   "cell_type": "code",
   "execution_count": 72,
   "id": "ae3b27e7-e6e5-4063-ae46-a8fa26d6cf59",
   "metadata": {},
   "outputs": [],
   "source": [
    "out_gcp.to_csv(\"full_fit_gcai.csv\", index=False, header=False)"
   ]
  },
  {
   "cell_type": "code",
   "execution_count": 73,
   "id": "8224e0ad-5807-4bd3-8f71-681fe724c45b",
   "metadata": {},
   "outputs": [
    {
     "data": {
      "text/html": [
       "<div>\n",
       "<style scoped>\n",
       "    .dataframe tbody tr th:only-of-type {\n",
       "        vertical-align: middle;\n",
       "    }\n",
       "\n",
       "    .dataframe tbody tr th {\n",
       "        vertical-align: top;\n",
       "    }\n",
       "\n",
       "    .dataframe thead th {\n",
       "        text-align: right;\n",
       "    }\n",
       "</style>\n",
       "<table border=\"1\" class=\"dataframe\">\n",
       "  <thead>\n",
       "    <tr style=\"text-align: right;\">\n",
       "      <th></th>\n",
       "      <th>VALIDATION</th>\n",
       "      <th>gs://hm-images-bucket/images/large/environmental/1025399011.jpg</th>\n",
       "      <th>regularfit</th>\n",
       "    </tr>\n",
       "  </thead>\n",
       "  <tbody>\n",
       "    <tr>\n",
       "      <th>0</th>\n",
       "      <td>VALIDATION</td>\n",
       "      <td>gs://hm-images-bucket/images/large/descriptive...</td>\n",
       "      <td>regularfit</td>\n",
       "    </tr>\n",
       "    <tr>\n",
       "      <th>1</th>\n",
       "      <td>VALIDATION</td>\n",
       "      <td>gs://hm-images-bucket/images/large/descriptive...</td>\n",
       "      <td>regularfit</td>\n",
       "    </tr>\n",
       "    <tr>\n",
       "      <th>2</th>\n",
       "      <td>VALIDATION</td>\n",
       "      <td>gs://hm-images-bucket/images/large/lookbook/10...</td>\n",
       "      <td>regularfit</td>\n",
       "    </tr>\n",
       "    <tr>\n",
       "      <th>3</th>\n",
       "      <td>VALIDATION</td>\n",
       "      <td>gs://hm-images-bucket/images/extraSmall/enviro...</td>\n",
       "      <td>regularfit</td>\n",
       "    </tr>\n",
       "    <tr>\n",
       "      <th>4</th>\n",
       "      <td>VALIDATION</td>\n",
       "      <td>gs://hm-images-bucket/images/extraSmall/descri...</td>\n",
       "      <td>regularfit</td>\n",
       "    </tr>\n",
       "    <tr>\n",
       "      <th>...</th>\n",
       "      <td>...</td>\n",
       "      <td>...</td>\n",
       "      <td>...</td>\n",
       "    </tr>\n",
       "    <tr>\n",
       "      <th>71309</th>\n",
       "      <td>VALIDATION</td>\n",
       "      <td>gs://hm-images-bucket/images/extraLarge/lookbo...</td>\n",
       "      <td>relaxedfit</td>\n",
       "    </tr>\n",
       "    <tr>\n",
       "      <th>71310</th>\n",
       "      <td>TRAINING</td>\n",
       "      <td>gs://hm-images-bucket/images/extraLarge/descri...</td>\n",
       "      <td>relaxedfit</td>\n",
       "    </tr>\n",
       "    <tr>\n",
       "      <th>71311</th>\n",
       "      <td>TRAINING</td>\n",
       "      <td>gs://hm-images-bucket/images/extraLarge/descri...</td>\n",
       "      <td>relaxedfit</td>\n",
       "    </tr>\n",
       "    <tr>\n",
       "      <th>71312</th>\n",
       "      <td>TRAINING</td>\n",
       "      <td>gs://hm-images-bucket/images/extraLarge/descri...</td>\n",
       "      <td>relaxedfit</td>\n",
       "    </tr>\n",
       "    <tr>\n",
       "      <th>71313</th>\n",
       "      <td>TRAINING</td>\n",
       "      <td>gs://hm-images-bucket/images/extraLarge/descri...</td>\n",
       "      <td>relaxedfit</td>\n",
       "    </tr>\n",
       "  </tbody>\n",
       "</table>\n",
       "<p>71314 rows × 3 columns</p>\n",
       "</div>"
      ],
      "text/plain": [
       "       VALIDATION  \\\n",
       "0      VALIDATION   \n",
       "1      VALIDATION   \n",
       "2      VALIDATION   \n",
       "3      VALIDATION   \n",
       "4      VALIDATION   \n",
       "...           ...   \n",
       "71309  VALIDATION   \n",
       "71310    TRAINING   \n",
       "71311    TRAINING   \n",
       "71312    TRAINING   \n",
       "71313    TRAINING   \n",
       "\n",
       "      gs://hm-images-bucket/images/large/environmental/1025399011.jpg  \\\n",
       "0      gs://hm-images-bucket/images/large/descriptive...                \n",
       "1      gs://hm-images-bucket/images/large/descriptive...                \n",
       "2      gs://hm-images-bucket/images/large/lookbook/10...                \n",
       "3      gs://hm-images-bucket/images/extraSmall/enviro...                \n",
       "4      gs://hm-images-bucket/images/extraSmall/descri...                \n",
       "...                                                  ...                \n",
       "71309  gs://hm-images-bucket/images/extraLarge/lookbo...                \n",
       "71310  gs://hm-images-bucket/images/extraLarge/descri...                \n",
       "71311  gs://hm-images-bucket/images/extraLarge/descri...                \n",
       "71312  gs://hm-images-bucket/images/extraLarge/descri...                \n",
       "71313  gs://hm-images-bucket/images/extraLarge/descri...                \n",
       "\n",
       "       regularfit  \n",
       "0      regularfit  \n",
       "1      regularfit  \n",
       "2      regularfit  \n",
       "3      regularfit  \n",
       "4      regularfit  \n",
       "...           ...  \n",
       "71309  relaxedfit  \n",
       "71310  relaxedfit  \n",
       "71311  relaxedfit  \n",
       "71312  relaxedfit  \n",
       "71313  relaxedfit  \n",
       "\n",
       "[71314 rows x 3 columns]"
      ]
     },
     "execution_count": 73,
     "metadata": {},
     "output_type": "execute_result"
    }
   ],
   "source": [
    "pd.read_csv(\"full_fit_gcai.csv\")"
   ]
  },
  {
   "cell_type": "code",
   "execution_count": null,
   "id": "4a4b183e-2bb2-4087-8923-42b70f8276b3",
   "metadata": {},
   "outputs": [],
   "source": []
  }
 ],
 "metadata": {
  "environment": {
   "kernel": "python3",
   "name": "pytorch-gpu.1-11.m91",
   "type": "gcloud",
   "uri": "gcr.io/deeplearning-platform-release/pytorch-gpu.1-11:m91"
  },
  "kernelspec": {
   "display_name": "Python 3",
   "language": "python",
   "name": "python3"
  },
  "language_info": {
   "codemirror_mode": {
    "name": "ipython",
    "version": 3
   },
   "file_extension": ".py",
   "mimetype": "text/x-python",
   "name": "python",
   "nbconvert_exporter": "python",
   "pygments_lexer": "ipython3",
   "version": "3.7.12"
  }
 },
 "nbformat": 4,
 "nbformat_minor": 5
}
