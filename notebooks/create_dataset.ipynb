{
 "cells": [
  {
   "cell_type": "markdown",
   "id": "211c5063-6c6c-400b-8f2d-21da328b9e71",
   "metadata": {},
   "source": [
    "# Import libraries"
   ]
  },
  {
   "cell_type": "code",
   "execution_count": 1,
   "id": "9ecd2f79-5bd6-4f10-a35a-620d938b7eeb",
   "metadata": {},
   "outputs": [],
   "source": [
    "import os\n",
    "\n",
    "import gcsfs\n",
    "import pandas as pd\n",
    "from sklearn.model_selection import StratifiedGroupKFold"
   ]
  },
  {
   "cell_type": "code",
   "execution_count": 2,
   "id": "b824869e-f39c-4815-bf6c-20a10a90a3c8",
   "metadata": {},
   "outputs": [],
   "source": [
    "gfs = gcsfs.GCSFileSystem(project=\"smle-attribution-d237\")"
   ]
  },
  {
   "cell_type": "markdown",
   "id": "22164f39-f630-4454-8b8e-6897badaea1c",
   "metadata": {},
   "source": [
    "# Define variables"
   ]
  },
  {
   "cell_type": "code",
   "execution_count": 3,
   "id": "9a7f0335-aa7b-4d3c-b6ab-a0a7680eaa72",
   "metadata": {
    "tags": []
   },
   "outputs": [],
   "source": [
    "root = \"gs://hm-images-bucket/\"\n",
    "img_path = \"images\"\n",
    "annotation_path = \"annotations\""
   ]
  },
  {
   "cell_type": "markdown",
   "id": "05ff6b1b-bee1-414d-b8ec-4cf425fdf48d",
   "metadata": {},
   "source": [
    "# Image counts"
   ]
  },
  {
   "cell_type": "code",
   "execution_count": 4,
   "id": "5e7cf888-3b06-434a-adcc-4dd566ea4892",
   "metadata": {},
   "outputs": [
    {
     "name": "stdout",
     "output_type": "stream",
     "text": [
      "hm-images-bucket/images: 0\n",
      "hm-images-bucket/images/extraLarge: 0\n",
      "hm-images-bucket/images/extraLarge/descriptiveDetail: 25633\n",
      "hm-images-bucket/images/extraLarge/descriptiveStillLife: 29279\n",
      "hm-images-bucket/images/extraLarge/environmental: 938\n",
      "hm-images-bucket/images/extraLarge/lookbook: 16564\n",
      "hm-images-bucket/images/extraSmall: 0\n",
      "hm-images-bucket/images/extraSmall/descriptiveDetail: 25627\n",
      "hm-images-bucket/images/extraSmall/descriptiveStillLife: 29275\n",
      "hm-images-bucket/images/extraSmall/environmental: 940\n",
      "hm-images-bucket/images/extraSmall/lookbook: 16508\n",
      "hm-images-bucket/images/large: 0\n",
      "hm-images-bucket/images/large/descriptiveDetail: 25627\n",
      "hm-images-bucket/images/large/descriptiveStillLife: 29274\n",
      "hm-images-bucket/images/large/environmental: 940\n",
      "hm-images-bucket/images/large/lookbook: 16519\n",
      "hm-images-bucket/images/medium: 0\n",
      "hm-images-bucket/images/medium/descriptiveDetail: 25627\n",
      "hm-images-bucket/images/medium/descriptiveStillLife: 29275\n",
      "hm-images-bucket/images/medium/environmental: 940\n",
      "hm-images-bucket/images/medium/lookbook: 16518\n",
      "Total: 289484\n"
     ]
    }
   ],
   "source": [
    "total = 0\n",
    "for base, dirs, files in gfs.walk(os.path.join(root, img_path)):\n",
    "    count = len(files)\n",
    "    total += count\n",
    "    print(f\"{base}: {count}\")\n",
    "print(f\"Total: {total}\")"
   ]
  },
  {
   "cell_type": "markdown",
   "id": "0669a6f8-1d0b-4433-8000-7ce3d41be8f2",
   "metadata": {},
   "source": [
    "# Create data"
   ]
  },
  {
   "cell_type": "code",
   "execution_count": 5,
   "id": "5843399c-c29f-42e6-b97b-1305e65ca10f",
   "metadata": {},
   "outputs": [
    {
     "name": "stdout",
     "output_type": "stream",
     "text": [
      "289484\n"
     ]
    }
   ],
   "source": [
    "num = len(os.path.join(root, img_path)) - 4\n",
    "\n",
    "file_list = gfs.glob(root + \"images/**/*.jpg\", recursive=True)\n",
    "castor_list = [int(os.path.basename(path)[:-4]) for path in file_list]\n",
    "path_list = [path[num:] for path in file_list]\n",
    "print(len(file_list))"
   ]
  },
  {
   "cell_type": "code",
   "execution_count": 6,
   "id": "5fe1648e-dd18-412d-913e-aadb2c9b6a46",
   "metadata": {},
   "outputs": [
    {
     "name": "stdout",
     "output_type": "stream",
     "text": [
      "(289484, 2)\n"
     ]
    },
    {
     "data": {
      "text/html": [
       "<div>\n",
       "<style scoped>\n",
       "    .dataframe tbody tr th:only-of-type {\n",
       "        vertical-align: middle;\n",
       "    }\n",
       "\n",
       "    .dataframe tbody tr th {\n",
       "        vertical-align: top;\n",
       "    }\n",
       "\n",
       "    .dataframe thead th {\n",
       "        text-align: right;\n",
       "    }\n",
       "</style>\n",
       "<table border=\"1\" class=\"dataframe\">\n",
       "  <thead>\n",
       "    <tr style=\"text-align: right;\">\n",
       "      <th></th>\n",
       "      <th>path</th>\n",
       "      <th>castor</th>\n",
       "    </tr>\n",
       "  </thead>\n",
       "  <tbody>\n",
       "    <tr>\n",
       "      <th>0</th>\n",
       "      <td>extraLarge/descriptiveDetail/1000007001.jpg</td>\n",
       "      <td>1000007001</td>\n",
       "    </tr>\n",
       "    <tr>\n",
       "      <th>1</th>\n",
       "      <td>extraLarge/descriptiveDetail/1000035001.jpg</td>\n",
       "      <td>1000035001</td>\n",
       "    </tr>\n",
       "    <tr>\n",
       "      <th>2</th>\n",
       "      <td>extraLarge/descriptiveDetail/1000037001.jpg</td>\n",
       "      <td>1000037001</td>\n",
       "    </tr>\n",
       "    <tr>\n",
       "      <th>3</th>\n",
       "      <td>extraLarge/descriptiveDetail/1000037002.jpg</td>\n",
       "      <td>1000037002</td>\n",
       "    </tr>\n",
       "    <tr>\n",
       "      <th>4</th>\n",
       "      <td>extraLarge/descriptiveDetail/1000037003.jpg</td>\n",
       "      <td>1000037003</td>\n",
       "    </tr>\n",
       "  </tbody>\n",
       "</table>\n",
       "</div>"
      ],
      "text/plain": [
       "                                          path      castor\n",
       "0  extraLarge/descriptiveDetail/1000007001.jpg  1000007001\n",
       "1  extraLarge/descriptiveDetail/1000035001.jpg  1000035001\n",
       "2  extraLarge/descriptiveDetail/1000037001.jpg  1000037001\n",
       "3  extraLarge/descriptiveDetail/1000037002.jpg  1000037002\n",
       "4  extraLarge/descriptiveDetail/1000037003.jpg  1000037003"
      ]
     },
     "execution_count": 6,
     "metadata": {},
     "output_type": "execute_result"
    }
   ],
   "source": [
    "df = pd.DataFrame(data=\n",
    "    {\n",
    "        \"path\": path_list,\n",
    "        \"castor\": castor_list\n",
    "    }\n",
    ")\n",
    "print(df.shape)\n",
    "df.head()"
   ]
  },
  {
   "cell_type": "code",
   "execution_count": 7,
   "id": "1907afe5-a9f7-45ef-92fe-40df0ac5526e",
   "metadata": {},
   "outputs": [],
   "source": [
    "# df.to_csv(os.path.join(root, annotation_path, \"castors.csv\"), index=False)"
   ]
  },
  {
   "cell_type": "markdown",
   "id": "6d34b26f-8f05-42d6-8449-378fa9afe7ab",
   "metadata": {
    "tags": []
   },
   "source": [
    "# Padma table"
   ]
  },
  {
   "cell_type": "code",
   "execution_count": 8,
   "id": "661fe91a-919d-421a-a83e-28df09c1bd6a",
   "metadata": {},
   "outputs": [
    {
     "name": "stdout",
     "output_type": "stream",
     "text": [
      "(3695062, 3)\n"
     ]
    },
    {
     "data": {
      "text/html": [
       "<div>\n",
       "<style scoped>\n",
       "    .dataframe tbody tr th:only-of-type {\n",
       "        vertical-align: middle;\n",
       "    }\n",
       "\n",
       "    .dataframe tbody tr th {\n",
       "        vertical-align: top;\n",
       "    }\n",
       "\n",
       "    .dataframe thead th {\n",
       "        text-align: right;\n",
       "    }\n",
       "</style>\n",
       "<table border=\"1\" class=\"dataframe\">\n",
       "  <thead>\n",
       "    <tr style=\"text-align: right;\">\n",
       "      <th></th>\n",
       "      <th>product_code</th>\n",
       "      <th>article_code</th>\n",
       "      <th>castor</th>\n",
       "    </tr>\n",
       "  </thead>\n",
       "  <tbody>\n",
       "    <tr>\n",
       "      <th>0</th>\n",
       "      <td>0686043</td>\n",
       "      <td>131</td>\n",
       "      <td>0686043131</td>\n",
       "    </tr>\n",
       "    <tr>\n",
       "      <th>1</th>\n",
       "      <td>0686043</td>\n",
       "      <td>132</td>\n",
       "      <td>0686043132</td>\n",
       "    </tr>\n",
       "    <tr>\n",
       "      <th>2</th>\n",
       "      <td>0686043</td>\n",
       "      <td>133</td>\n",
       "      <td>0686043133</td>\n",
       "    </tr>\n",
       "    <tr>\n",
       "      <th>3</th>\n",
       "      <td>0686043</td>\n",
       "      <td>134</td>\n",
       "      <td>0686043134</td>\n",
       "    </tr>\n",
       "    <tr>\n",
       "      <th>4</th>\n",
       "      <td>0686043</td>\n",
       "      <td>135</td>\n",
       "      <td>0686043135</td>\n",
       "    </tr>\n",
       "  </tbody>\n",
       "</table>\n",
       "</div>"
      ],
      "text/plain": [
       "  product_code article_code      castor\n",
       "0      0686043          131  0686043131\n",
       "1      0686043          132  0686043132\n",
       "2      0686043          133  0686043133\n",
       "3      0686043          134  0686043134\n",
       "4      0686043          135  0686043135"
      ]
     },
     "execution_count": 8,
     "metadata": {},
     "output_type": "execute_result"
    }
   ],
   "source": [
    "padma = pd.read_parquet(\"gs://hdl-tables/dma/product_article_datamart\",\n",
    "                        columns=[\"product_code\", \"article_code\", \"castor\"])\n",
    "print(padma.shape)\n",
    "padma.head()"
   ]
  },
  {
   "cell_type": "code",
   "execution_count": 9,
   "id": "626f3a95-b28a-4de8-929c-5d80b7b114ae",
   "metadata": {},
   "outputs": [
    {
     "data": {
      "text/plain": [
       "product_code    False\n",
       "article_code    False\n",
       "castor          False\n",
       "dtype: bool"
      ]
     },
     "execution_count": 9,
     "metadata": {},
     "output_type": "execute_result"
    }
   ],
   "source": [
    "padma.isna().any()"
   ]
  },
  {
   "cell_type": "code",
   "execution_count": 10,
   "id": "a575c217-dff5-4e0b-8ac2-233b4c671547",
   "metadata": {},
   "outputs": [
    {
     "data": {
      "text/plain": [
       "(1989227, 3)"
      ]
     },
     "execution_count": 10,
     "metadata": {},
     "output_type": "execute_result"
    }
   ],
   "source": [
    "padma = padma.drop_duplicates()\n",
    "padma.shape"
   ]
  },
  {
   "cell_type": "code",
   "execution_count": 11,
   "id": "3869ccf2-c432-431e-b547-c35f7318d543",
   "metadata": {},
   "outputs": [
    {
     "data": {
      "text/plain": [
       "product_code    False\n",
       "article_code    False\n",
       "castor          False\n",
       "dtype: bool"
      ]
     },
     "execution_count": 11,
     "metadata": {},
     "output_type": "execute_result"
    }
   ],
   "source": [
    "padma.isna().any()"
   ]
  },
  {
   "cell_type": "code",
   "execution_count": 12,
   "id": "712760f0-641e-46d2-8f16-5995b1f5688d",
   "metadata": {},
   "outputs": [
    {
     "data": {
      "text/plain": [
       "product_code    object\n",
       "article_code    object\n",
       "castor          object\n",
       "dtype: object"
      ]
     },
     "execution_count": 12,
     "metadata": {},
     "output_type": "execute_result"
    }
   ],
   "source": [
    "padma.dtypes"
   ]
  },
  {
   "cell_type": "code",
   "execution_count": 13,
   "id": "9f42a587-543d-4c8c-98dc-b93bfecb45e2",
   "metadata": {},
   "outputs": [
    {
     "data": {
      "text/plain": [
       "product_code    object\n",
       "article_code    object\n",
       "castor           int64\n",
       "dtype: object"
      ]
     },
     "execution_count": 13,
     "metadata": {},
     "output_type": "execute_result"
    }
   ],
   "source": [
    "padma.castor = padma.castor.astype(int)\n",
    "padma.dtypes"
   ]
  },
  {
   "cell_type": "markdown",
   "id": "a9b0918e-d07d-4714-b621-da58f1afb754",
   "metadata": {},
   "source": [
    "# PIM table"
   ]
  },
  {
   "cell_type": "code",
   "execution_count": 14,
   "id": "c93cd23c-e54c-4125-83e5-b6b79f9d2469",
   "metadata": {},
   "outputs": [
    {
     "name": "stdout",
     "output_type": "stream",
     "text": [
      "(274925, 3)\n"
     ]
    },
    {
     "data": {
      "text/html": [
       "<div>\n",
       "<style scoped>\n",
       "    .dataframe tbody tr th:only-of-type {\n",
       "        vertical-align: middle;\n",
       "    }\n",
       "\n",
       "    .dataframe tbody tr th {\n",
       "        vertical-align: top;\n",
       "    }\n",
       "\n",
       "    .dataframe thead th {\n",
       "        text-align: right;\n",
       "    }\n",
       "</style>\n",
       "<table border=\"1\" class=\"dataframe\">\n",
       "  <thead>\n",
       "    <tr style=\"text-align: right;\">\n",
       "      <th></th>\n",
       "      <th>product_code</th>\n",
       "      <th>article_code</th>\n",
       "      <th>product_fit</th>\n",
       "    </tr>\n",
       "  </thead>\n",
       "  <tbody>\n",
       "    <tr>\n",
       "      <th>0</th>\n",
       "      <td>0109599</td>\n",
       "      <td>007</td>\n",
       "      <td>None</td>\n",
       "    </tr>\n",
       "    <tr>\n",
       "      <th>1</th>\n",
       "      <td>0109599</td>\n",
       "      <td>006</td>\n",
       "      <td>None</td>\n",
       "    </tr>\n",
       "    <tr>\n",
       "      <th>2</th>\n",
       "      <td>0109599</td>\n",
       "      <td>001</td>\n",
       "      <td>None</td>\n",
       "    </tr>\n",
       "    <tr>\n",
       "      <th>3</th>\n",
       "      <td>0118152</td>\n",
       "      <td>005</td>\n",
       "      <td>None</td>\n",
       "    </tr>\n",
       "    <tr>\n",
       "      <th>4</th>\n",
       "      <td>0118152</td>\n",
       "      <td>001</td>\n",
       "      <td>None</td>\n",
       "    </tr>\n",
       "  </tbody>\n",
       "</table>\n",
       "</div>"
      ],
      "text/plain": [
       "  product_code article_code product_fit\n",
       "0      0109599          007        None\n",
       "1      0109599          006        None\n",
       "2      0109599          001        None\n",
       "3      0118152          005        None\n",
       "4      0118152          001        None"
      ]
     },
     "execution_count": 14,
     "metadata": {},
     "output_type": "execute_result"
    }
   ],
   "source": [
    "pim = pd.read_parquet(\"gs://hdl-tables/dim/dim_pim\",\n",
    "                      columns=[\"product_code\", \"article_code\", \"product_fit\"])\n",
    "print(pim.shape)\n",
    "pim.head()"
   ]
  },
  {
   "cell_type": "code",
   "execution_count": 15,
   "id": "6cf3df48-681d-4371-aca2-6c814ef9868d",
   "metadata": {},
   "outputs": [
    {
     "data": {
      "text/plain": [
       "product_code    False\n",
       "article_code     True\n",
       "product_fit      True\n",
       "dtype: bool"
      ]
     },
     "execution_count": 15,
     "metadata": {},
     "output_type": "execute_result"
    }
   ],
   "source": [
    "pim.isna().any()"
   ]
  },
  {
   "cell_type": "code",
   "execution_count": 16,
   "id": "7c630695-726a-485f-bcd6-7e9b26b65cbe",
   "metadata": {},
   "outputs": [
    {
     "data": {
      "text/plain": [
       "product_code         0\n",
       "article_code       776\n",
       "product_fit     243780\n",
       "dtype: int64"
      ]
     },
     "execution_count": 16,
     "metadata": {},
     "output_type": "execute_result"
    }
   ],
   "source": [
    "pim.isna().sum()"
   ]
  },
  {
   "cell_type": "code",
   "execution_count": 17,
   "id": "c08c5454-3be7-4bee-9f3a-bacecd17ad5a",
   "metadata": {},
   "outputs": [
    {
     "name": "stdout",
     "output_type": "stream",
     "text": [
      "(31100, 3)\n"
     ]
    },
    {
     "data": {
      "text/html": [
       "<div>\n",
       "<style scoped>\n",
       "    .dataframe tbody tr th:only-of-type {\n",
       "        vertical-align: middle;\n",
       "    }\n",
       "\n",
       "    .dataframe tbody tr th {\n",
       "        vertical-align: top;\n",
       "    }\n",
       "\n",
       "    .dataframe thead th {\n",
       "        text-align: right;\n",
       "    }\n",
       "</style>\n",
       "<table border=\"1\" class=\"dataframe\">\n",
       "  <thead>\n",
       "    <tr style=\"text-align: right;\">\n",
       "      <th></th>\n",
       "      <th>product_code</th>\n",
       "      <th>article_code</th>\n",
       "      <th>product_fit</th>\n",
       "    </tr>\n",
       "  </thead>\n",
       "  <tbody>\n",
       "    <tr>\n",
       "      <th>93</th>\n",
       "      <td>0225618</td>\n",
       "      <td>019</td>\n",
       "      <td>fitted</td>\n",
       "    </tr>\n",
       "    <tr>\n",
       "      <th>94</th>\n",
       "      <td>0225618</td>\n",
       "      <td>017</td>\n",
       "      <td>fitted</td>\n",
       "    </tr>\n",
       "    <tr>\n",
       "      <th>122</th>\n",
       "      <td>0238230</td>\n",
       "      <td>001</td>\n",
       "      <td>fitted</td>\n",
       "    </tr>\n",
       "    <tr>\n",
       "      <th>130</th>\n",
       "      <td>0251087</td>\n",
       "      <td>001</td>\n",
       "      <td>slimfit</td>\n",
       "    </tr>\n",
       "    <tr>\n",
       "      <th>131</th>\n",
       "      <td>0251087</td>\n",
       "      <td>002</td>\n",
       "      <td>slimfit</td>\n",
       "    </tr>\n",
       "  </tbody>\n",
       "</table>\n",
       "</div>"
      ],
      "text/plain": [
       "    product_code article_code product_fit\n",
       "93       0225618          019      fitted\n",
       "94       0225618          017      fitted\n",
       "122      0238230          001      fitted\n",
       "130      0251087          001     slimfit\n",
       "131      0251087          002     slimfit"
      ]
     },
     "execution_count": 17,
     "metadata": {},
     "output_type": "execute_result"
    }
   ],
   "source": [
    "pim = pim.dropna(axis=0, subset=[\"article_code\", \"product_fit\"])\n",
    "print(pim.shape)\n",
    "pim.head()"
   ]
  },
  {
   "cell_type": "code",
   "execution_count": 18,
   "id": "eda2290a-5c1b-4cc9-a382-8e5669fa1fb8",
   "metadata": {},
   "outputs": [
    {
     "data": {
      "text/plain": [
       "fitted                            8499\n",
       "regularfit                        5320\n",
       "slimfit                           4536\n",
       "oversized                         4154\n",
       "skinnyfit                         2819\n",
       "relaxedfit                        2470\n",
       "loosefit                          1971\n",
       "superskinnyfit                     978\n",
       "musclefit                          334\n",
       "[\"regularfit\",\"skinnyfit\"]           6\n",
       "[\"loosefit\",\"oversized\"]             4\n",
       "[\"relaxedfit\",\"skinnyfit\"]           2\n",
       "[\"loosefit\",\"slimfit\"]               2\n",
       "[\"fitted\",\"oversized\"]               2\n",
       "[\"skinnyfit\",\"superskinnyfit\"]       1\n",
       "[\"loosefit\",\"regularfit\"]            1\n",
       "[\"regularfit\",\"relaxedfit\"]          1\n",
       "Name: product_fit, dtype: int64"
      ]
     },
     "execution_count": 18,
     "metadata": {},
     "output_type": "execute_result"
    }
   ],
   "source": [
    "pim[\"product_fit\"].value_counts()"
   ]
  },
  {
   "cell_type": "code",
   "execution_count": 19,
   "id": "909b7ae6-68d3-41a8-aea9-465a6fb705ca",
   "metadata": {
    "tags": []
   },
   "outputs": [
    {
     "data": {
      "text/plain": [
       "(31099, 3)"
      ]
     },
     "execution_count": 19,
     "metadata": {},
     "output_type": "execute_result"
    }
   ],
   "source": [
    "pim = pim.drop_duplicates()\n",
    "pim.shape"
   ]
  },
  {
   "cell_type": "code",
   "execution_count": 20,
   "id": "2632d57f-3a75-42ce-aa47-18a4fa1f6a7c",
   "metadata": {},
   "outputs": [
    {
     "data": {
      "text/plain": [
       "product_code    False\n",
       "article_code    False\n",
       "product_fit     False\n",
       "dtype: bool"
      ]
     },
     "execution_count": 20,
     "metadata": {},
     "output_type": "execute_result"
    }
   ],
   "source": [
    "pim.isna().any()"
   ]
  },
  {
   "cell_type": "markdown",
   "id": "072dc93d-e825-42a4-80e7-87baa620ec42",
   "metadata": {},
   "source": [
    "# Merge pim, padma"
   ]
  },
  {
   "cell_type": "code",
   "execution_count": 21,
   "id": "2bbd637c-ab34-432b-80f5-671477214a98",
   "metadata": {},
   "outputs": [
    {
     "name": "stdout",
     "output_type": "stream",
     "text": [
      "(31099, 4)\n"
     ]
    },
    {
     "data": {
      "text/html": [
       "<div>\n",
       "<style scoped>\n",
       "    .dataframe tbody tr th:only-of-type {\n",
       "        vertical-align: middle;\n",
       "    }\n",
       "\n",
       "    .dataframe tbody tr th {\n",
       "        vertical-align: top;\n",
       "    }\n",
       "\n",
       "    .dataframe thead th {\n",
       "        text-align: right;\n",
       "    }\n",
       "</style>\n",
       "<table border=\"1\" class=\"dataframe\">\n",
       "  <thead>\n",
       "    <tr style=\"text-align: right;\">\n",
       "      <th></th>\n",
       "      <th>product_code</th>\n",
       "      <th>article_code</th>\n",
       "      <th>product_fit</th>\n",
       "      <th>castor</th>\n",
       "    </tr>\n",
       "  </thead>\n",
       "  <tbody>\n",
       "    <tr>\n",
       "      <th>0</th>\n",
       "      <td>0225618</td>\n",
       "      <td>019</td>\n",
       "      <td>fitted</td>\n",
       "      <td>225618019</td>\n",
       "    </tr>\n",
       "    <tr>\n",
       "      <th>1</th>\n",
       "      <td>0225618</td>\n",
       "      <td>017</td>\n",
       "      <td>fitted</td>\n",
       "      <td>225618017</td>\n",
       "    </tr>\n",
       "    <tr>\n",
       "      <th>2</th>\n",
       "      <td>0238230</td>\n",
       "      <td>001</td>\n",
       "      <td>fitted</td>\n",
       "      <td>238230001</td>\n",
       "    </tr>\n",
       "    <tr>\n",
       "      <th>3</th>\n",
       "      <td>0251087</td>\n",
       "      <td>001</td>\n",
       "      <td>slimfit</td>\n",
       "      <td>251087001</td>\n",
       "    </tr>\n",
       "    <tr>\n",
       "      <th>4</th>\n",
       "      <td>0251087</td>\n",
       "      <td>002</td>\n",
       "      <td>slimfit</td>\n",
       "      <td>251087002</td>\n",
       "    </tr>\n",
       "  </tbody>\n",
       "</table>\n",
       "</div>"
      ],
      "text/plain": [
       "  product_code article_code product_fit     castor\n",
       "0      0225618          019      fitted  225618019\n",
       "1      0225618          017      fitted  225618017\n",
       "2      0238230          001      fitted  238230001\n",
       "3      0251087          001     slimfit  251087001\n",
       "4      0251087          002     slimfit  251087002"
      ]
     },
     "execution_count": 21,
     "metadata": {},
     "output_type": "execute_result"
    }
   ],
   "source": [
    "data = pim.merge(padma, on=[\"product_code\", \"article_code\"], how=\"left\")\n",
    "print(data.shape)\n",
    "data.head()"
   ]
  },
  {
   "cell_type": "code",
   "execution_count": 22,
   "id": "117e2e2e-a574-4456-8446-e5715e8cd3ea",
   "metadata": {},
   "outputs": [
    {
     "data": {
      "text/plain": [
       "product_code    object\n",
       "article_code    object\n",
       "product_fit     object\n",
       "castor           int64\n",
       "dtype: object"
      ]
     },
     "execution_count": 22,
     "metadata": {},
     "output_type": "execute_result"
    }
   ],
   "source": [
    "data.dtypes"
   ]
  },
  {
   "cell_type": "code",
   "execution_count": 23,
   "id": "02b9810c-f3c2-42da-a9b1-9f809efa03a5",
   "metadata": {},
   "outputs": [
    {
     "name": "stdout",
     "output_type": "stream",
     "text": [
      "(31080, 4)\n"
     ]
    },
    {
     "data": {
      "text/html": [
       "<div>\n",
       "<style scoped>\n",
       "    .dataframe tbody tr th:only-of-type {\n",
       "        vertical-align: middle;\n",
       "    }\n",
       "\n",
       "    .dataframe tbody tr th {\n",
       "        vertical-align: top;\n",
       "    }\n",
       "\n",
       "    .dataframe thead th {\n",
       "        text-align: right;\n",
       "    }\n",
       "</style>\n",
       "<table border=\"1\" class=\"dataframe\">\n",
       "  <thead>\n",
       "    <tr style=\"text-align: right;\">\n",
       "      <th></th>\n",
       "      <th>product_code</th>\n",
       "      <th>article_code</th>\n",
       "      <th>product_fit</th>\n",
       "      <th>castor</th>\n",
       "    </tr>\n",
       "  </thead>\n",
       "  <tbody>\n",
       "    <tr>\n",
       "      <th>0</th>\n",
       "      <td>0225618</td>\n",
       "      <td>019</td>\n",
       "      <td>fitted</td>\n",
       "      <td>225618019</td>\n",
       "    </tr>\n",
       "    <tr>\n",
       "      <th>1</th>\n",
       "      <td>0225618</td>\n",
       "      <td>017</td>\n",
       "      <td>fitted</td>\n",
       "      <td>225618017</td>\n",
       "    </tr>\n",
       "    <tr>\n",
       "      <th>2</th>\n",
       "      <td>0238230</td>\n",
       "      <td>001</td>\n",
       "      <td>fitted</td>\n",
       "      <td>238230001</td>\n",
       "    </tr>\n",
       "    <tr>\n",
       "      <th>3</th>\n",
       "      <td>0251087</td>\n",
       "      <td>001</td>\n",
       "      <td>slimfit</td>\n",
       "      <td>251087001</td>\n",
       "    </tr>\n",
       "    <tr>\n",
       "      <th>4</th>\n",
       "      <td>0251087</td>\n",
       "      <td>002</td>\n",
       "      <td>slimfit</td>\n",
       "      <td>251087002</td>\n",
       "    </tr>\n",
       "  </tbody>\n",
       "</table>\n",
       "</div>"
      ],
      "text/plain": [
       "  product_code article_code product_fit     castor\n",
       "0      0225618          019      fitted  225618019\n",
       "1      0225618          017      fitted  225618017\n",
       "2      0238230          001      fitted  238230001\n",
       "3      0251087          001     slimfit  251087001\n",
       "4      0251087          002     slimfit  251087002"
      ]
     },
     "execution_count": 23,
     "metadata": {},
     "output_type": "execute_result"
    }
   ],
   "source": [
    "data = data[~data[\"product_fit\"].str.contains(\"[\", regex=False)]\n",
    "print(data.shape)\n",
    "data.head()"
   ]
  },
  {
   "cell_type": "code",
   "execution_count": 24,
   "id": "f4482cfe-b014-471c-8694-ebc195d72671",
   "metadata": {},
   "outputs": [
    {
     "data": {
      "text/plain": [
       "product_code    False\n",
       "article_code    False\n",
       "product_fit     False\n",
       "castor          False\n",
       "dtype: bool"
      ]
     },
     "execution_count": 24,
     "metadata": {},
     "output_type": "execute_result"
    }
   ],
   "source": [
    "data.isna().any()"
   ]
  },
  {
   "cell_type": "code",
   "execution_count": 25,
   "id": "273b270f-73ef-4c43-9228-1b31b7f4c5dd",
   "metadata": {},
   "outputs": [
    {
     "data": {
      "text/plain": [
       "(31080, 2)"
      ]
     },
     "execution_count": 25,
     "metadata": {},
     "output_type": "execute_result"
    }
   ],
   "source": [
    "data = data.drop(axis=1, labels=[\"product_code\", \"article_code\"])\n",
    "data.shape"
   ]
  },
  {
   "cell_type": "markdown",
   "id": "da58de0d-cc8a-4a52-b892-94aff208bb02",
   "metadata": {},
   "source": [
    "# Merge with castors"
   ]
  },
  {
   "cell_type": "code",
   "execution_count": 26,
   "id": "9eecf29f-a81b-44f3-bd24-4e854f7cc353",
   "metadata": {},
   "outputs": [
    {
     "data": {
      "text/plain": [
       "path      object\n",
       "castor     int64\n",
       "dtype: object"
      ]
     },
     "execution_count": 26,
     "metadata": {},
     "output_type": "execute_result"
    }
   ],
   "source": [
    "df.dtypes"
   ]
  },
  {
   "cell_type": "code",
   "execution_count": 27,
   "id": "e56992f9-8698-4546-9642-be61f1bd50bd",
   "metadata": {},
   "outputs": [
    {
     "name": "stdout",
     "output_type": "stream",
     "text": [
      "(71315, 3)\n"
     ]
    },
    {
     "data": {
      "text/html": [
       "<div>\n",
       "<style scoped>\n",
       "    .dataframe tbody tr th:only-of-type {\n",
       "        vertical-align: middle;\n",
       "    }\n",
       "\n",
       "    .dataframe tbody tr th {\n",
       "        vertical-align: top;\n",
       "    }\n",
       "\n",
       "    .dataframe thead th {\n",
       "        text-align: right;\n",
       "    }\n",
       "</style>\n",
       "<table border=\"1\" class=\"dataframe\">\n",
       "  <thead>\n",
       "    <tr style=\"text-align: right;\">\n",
       "      <th></th>\n",
       "      <th>path</th>\n",
       "      <th>castor</th>\n",
       "      <th>product_fit</th>\n",
       "    </tr>\n",
       "  </thead>\n",
       "  <tbody>\n",
       "    <tr>\n",
       "      <th>0</th>\n",
       "      <td>extraLarge/descriptiveDetail/1000037001.jpg</td>\n",
       "      <td>1000037001</td>\n",
       "      <td>fitted</td>\n",
       "    </tr>\n",
       "    <tr>\n",
       "      <th>1</th>\n",
       "      <td>extraLarge/descriptiveStillLife/1000037001.jpg</td>\n",
       "      <td>1000037001</td>\n",
       "      <td>fitted</td>\n",
       "    </tr>\n",
       "    <tr>\n",
       "      <th>2</th>\n",
       "      <td>extraLarge/lookbook/1000037001.jpg</td>\n",
       "      <td>1000037001</td>\n",
       "      <td>fitted</td>\n",
       "    </tr>\n",
       "    <tr>\n",
       "      <th>3</th>\n",
       "      <td>extraSmall/descriptiveDetail/1000037001.jpg</td>\n",
       "      <td>1000037001</td>\n",
       "      <td>fitted</td>\n",
       "    </tr>\n",
       "    <tr>\n",
       "      <th>4</th>\n",
       "      <td>extraSmall/descriptiveStillLife/1000037001.jpg</td>\n",
       "      <td>1000037001</td>\n",
       "      <td>fitted</td>\n",
       "    </tr>\n",
       "  </tbody>\n",
       "</table>\n",
       "</div>"
      ],
      "text/plain": [
       "                                             path      castor product_fit\n",
       "0     extraLarge/descriptiveDetail/1000037001.jpg  1000037001      fitted\n",
       "1  extraLarge/descriptiveStillLife/1000037001.jpg  1000037001      fitted\n",
       "2              extraLarge/lookbook/1000037001.jpg  1000037001      fitted\n",
       "3     extraSmall/descriptiveDetail/1000037001.jpg  1000037001      fitted\n",
       "4  extraSmall/descriptiveStillLife/1000037001.jpg  1000037001      fitted"
      ]
     },
     "execution_count": 27,
     "metadata": {},
     "output_type": "execute_result"
    }
   ],
   "source": [
    "out = df.merge(data, on=\"castor\", how=\"inner\")\n",
    "print(out.shape)\n",
    "out.head()"
   ]
  },
  {
   "cell_type": "code",
   "execution_count": 28,
   "id": "003affe5-6a77-4544-94c8-f0fcaf9d0920",
   "metadata": {},
   "outputs": [
    {
     "data": {
      "text/plain": [
       "path           False\n",
       "castor         False\n",
       "product_fit    False\n",
       "dtype: bool"
      ]
     },
     "execution_count": 28,
     "metadata": {},
     "output_type": "execute_result"
    }
   ],
   "source": [
    "out.isna().any()"
   ]
  },
  {
   "cell_type": "code",
   "execution_count": 29,
   "id": "90c131da-e6f7-4f00-ad4e-24fe1238f6e8",
   "metadata": {},
   "outputs": [
    {
     "data": {
      "text/plain": [
       "path           object\n",
       "castor          int64\n",
       "product_fit    object\n",
       "dtype: object"
      ]
     },
     "execution_count": 29,
     "metadata": {},
     "output_type": "execute_result"
    }
   ],
   "source": [
    "out.dtypes"
   ]
  },
  {
   "cell_type": "code",
   "execution_count": 30,
   "id": "bb093509-d824-43a9-811f-04174735d560",
   "metadata": {},
   "outputs": [
    {
     "data": {
      "text/plain": [
       "(6223,)"
      ]
     },
     "execution_count": 30,
     "metadata": {},
     "output_type": "execute_result"
    }
   ],
   "source": [
    "out.castor.unique().shape"
   ]
  },
  {
   "cell_type": "code",
   "execution_count": 31,
   "id": "dac0c7e1-aea0-47fc-b62c-2f7edb384e0d",
   "metadata": {},
   "outputs": [
    {
     "data": {
      "text/plain": [
       "oversized         14580\n",
       "regularfit        13766\n",
       "relaxedfit        13445\n",
       "fitted            13158\n",
       "loosefit           9281\n",
       "slimfit            4901\n",
       "skinnyfit          1672\n",
       "musclefit           340\n",
       "superskinnyfit      172\n",
       "Name: product_fit, dtype: int64"
      ]
     },
     "execution_count": 31,
     "metadata": {},
     "output_type": "execute_result"
    }
   ],
   "source": [
    "out[\"product_fit\"].value_counts()"
   ]
  },
  {
   "cell_type": "code",
   "execution_count": 32,
   "id": "07ed38a3-3d24-4ca7-9424-3a82a48e57a2",
   "metadata": {},
   "outputs": [
    {
     "name": "stdout",
     "output_type": "stream",
     "text": [
      "(71315, 4)\n"
     ]
    },
    {
     "data": {
      "text/html": [
       "<div>\n",
       "<style scoped>\n",
       "    .dataframe tbody tr th:only-of-type {\n",
       "        vertical-align: middle;\n",
       "    }\n",
       "\n",
       "    .dataframe tbody tr th {\n",
       "        vertical-align: top;\n",
       "    }\n",
       "\n",
       "    .dataframe thead th {\n",
       "        text-align: right;\n",
       "    }\n",
       "</style>\n",
       "<table border=\"1\" class=\"dataframe\">\n",
       "  <thead>\n",
       "    <tr style=\"text-align: right;\">\n",
       "      <th></th>\n",
       "      <th>path</th>\n",
       "      <th>castor</th>\n",
       "      <th>product_fit</th>\n",
       "      <th>labels</th>\n",
       "    </tr>\n",
       "  </thead>\n",
       "  <tbody>\n",
       "    <tr>\n",
       "      <th>0</th>\n",
       "      <td>extraLarge/descriptiveDetail/1000037001.jpg</td>\n",
       "      <td>1000037001</td>\n",
       "      <td>fitted</td>\n",
       "      <td>0</td>\n",
       "    </tr>\n",
       "    <tr>\n",
       "      <th>1</th>\n",
       "      <td>extraLarge/descriptiveStillLife/1000037001.jpg</td>\n",
       "      <td>1000037001</td>\n",
       "      <td>fitted</td>\n",
       "      <td>0</td>\n",
       "    </tr>\n",
       "    <tr>\n",
       "      <th>2</th>\n",
       "      <td>extraLarge/lookbook/1000037001.jpg</td>\n",
       "      <td>1000037001</td>\n",
       "      <td>fitted</td>\n",
       "      <td>0</td>\n",
       "    </tr>\n",
       "    <tr>\n",
       "      <th>3</th>\n",
       "      <td>extraSmall/descriptiveDetail/1000037001.jpg</td>\n",
       "      <td>1000037001</td>\n",
       "      <td>fitted</td>\n",
       "      <td>0</td>\n",
       "    </tr>\n",
       "    <tr>\n",
       "      <th>4</th>\n",
       "      <td>extraSmall/descriptiveStillLife/1000037001.jpg</td>\n",
       "      <td>1000037001</td>\n",
       "      <td>fitted</td>\n",
       "      <td>0</td>\n",
       "    </tr>\n",
       "  </tbody>\n",
       "</table>\n",
       "</div>"
      ],
      "text/plain": [
       "                                             path      castor product_fit  \\\n",
       "0     extraLarge/descriptiveDetail/1000037001.jpg  1000037001      fitted   \n",
       "1  extraLarge/descriptiveStillLife/1000037001.jpg  1000037001      fitted   \n",
       "2              extraLarge/lookbook/1000037001.jpg  1000037001      fitted   \n",
       "3     extraSmall/descriptiveDetail/1000037001.jpg  1000037001      fitted   \n",
       "4  extraSmall/descriptiveStillLife/1000037001.jpg  1000037001      fitted   \n",
       "\n",
       "   labels  \n",
       "0       0  \n",
       "1       0  \n",
       "2       0  \n",
       "3       0  \n",
       "4       0  "
      ]
     },
     "execution_count": 32,
     "metadata": {},
     "output_type": "execute_result"
    }
   ],
   "source": [
    "out[\"labels\"] = out[\"product_fit\"].astype(\"category\").cat.codes\n",
    "print(out.shape)\n",
    "out.head()"
   ]
  },
  {
   "cell_type": "code",
   "execution_count": 33,
   "id": "5e756edc-0a3a-49d2-b916-e4f8a0e94ba9",
   "metadata": {},
   "outputs": [
    {
     "data": {
      "text/plain": [
       "3    14580\n",
       "4    13766\n",
       "5    13445\n",
       "0    13158\n",
       "1     9281\n",
       "7     4901\n",
       "6     1672\n",
       "2      340\n",
       "8      172\n",
       "Name: labels, dtype: int64"
      ]
     },
     "execution_count": 33,
     "metadata": {},
     "output_type": "execute_result"
    }
   ],
   "source": [
    "out.labels.value_counts()"
   ]
  },
  {
   "cell_type": "markdown",
   "id": "e158197e-aa82-4164-88fa-9ba4e8498f28",
   "metadata": {},
   "source": [
    "# Split data"
   ]
  },
  {
   "cell_type": "code",
   "execution_count": 34,
   "id": "45035001-bc9c-4764-8e5e-b0e441de01e8",
   "metadata": {},
   "outputs": [],
   "source": [
    "cv = StratifiedGroupKFold(n_splits=2)"
   ]
  },
  {
   "cell_type": "code",
   "execution_count": 35,
   "id": "796fdb8f-fe62-41a8-9445-f61564112e6e",
   "metadata": {
    "scrolled": true,
    "tags": []
   },
   "outputs": [
    {
     "name": "stdout",
     "output_type": "stream",
     "text": [
      "TRAIN: 0        1000037001\n",
      "1        1000037001\n",
      "2        1000037001\n",
      "3        1000037001\n",
      "4        1000037001\n",
      "            ...    \n",
      "71302    1039409002\n",
      "71307    1062013006\n",
      "71308    1062013006\n",
      "71309    1062013006\n",
      "71310    1062013006\n",
      "Name: castor, Length: 35656, dtype: int64 0        0\n",
      "1        0\n",
      "2        0\n",
      "3        0\n",
      "4        0\n",
      "        ..\n",
      "71302    3\n",
      "71307    5\n",
      "71308    5\n",
      "71309    5\n",
      "71310    5\n",
      "Name: labels, Length: 35656, dtype: int8\n",
      " TEST: 12       1000037002\n",
      "13       1000037002\n",
      "14       1000037002\n",
      "15       1000037002\n",
      "16       1000037002\n",
      "            ...    \n",
      "71306    1059115002\n",
      "71311    1065327002\n",
      "71312    1065327002\n",
      "71313    1065327002\n",
      "71314    1065327002\n",
      "Name: castor, Length: 35659, dtype: int64 12       0\n",
      "13       0\n",
      "14       0\n",
      "15       0\n",
      "16       0\n",
      "        ..\n",
      "71306    0\n",
      "71311    4\n",
      "71312    4\n",
      "71313    4\n",
      "71314    4\n",
      "Name: labels, Length: 35659, dtype: int8\n"
     ]
    }
   ],
   "source": [
    "train_idxs, test_idxs = next(cv.split(out.path, out.labels, out.castor))\n",
    "print(\"TRAIN:\", out.castor[train_idxs], out.labels[train_idxs])\n",
    "print(\" TEST:\", out.castor[test_idxs], out.labels[test_idxs])"
   ]
  },
  {
   "cell_type": "code",
   "execution_count": 36,
   "id": "3c2c5507-16c1-488d-88e9-2df4ad02fccf",
   "metadata": {},
   "outputs": [
    {
     "data": {
      "text/plain": [
       "35656"
      ]
     },
     "execution_count": 36,
     "metadata": {},
     "output_type": "execute_result"
    }
   ],
   "source": [
    "len(train_idxs)"
   ]
  },
  {
   "cell_type": "code",
   "execution_count": 37,
   "id": "9ebbccb0-7819-41dc-93b4-1497c1b33fd0",
   "metadata": {},
   "outputs": [
    {
     "data": {
      "text/plain": [
       "35659"
      ]
     },
     "execution_count": 37,
     "metadata": {},
     "output_type": "execute_result"
    }
   ],
   "source": [
    "len(test_idxs)"
   ]
  },
  {
   "cell_type": "markdown",
   "id": "763a7a73-feb9-48ff-af4e-e6ce22bf6301",
   "metadata": {},
   "source": [
    "# Split data 2"
   ]
  },
  {
   "cell_type": "code",
   "execution_count": 39,
   "id": "af64e96c-ce8e-4d68-9ec2-8a1b0463d667",
   "metadata": {},
   "outputs": [
    {
     "data": {
      "text/plain": [
       "(6223, 2)"
      ]
     },
     "execution_count": 39,
     "metadata": {},
     "output_type": "execute_result"
    }
   ],
   "source": [
    "tmp = out[[\"product_fit\", \"castor\"]].drop_duplicates()\n",
    "print(tmp.shape)\n",
    "tmp.head()"
   ]
  },
  {
   "cell_type": "code",
   "execution_count": 54,
   "id": "8378bfbd-7787-48dc-ad88-4c6496fbf95f",
   "metadata": {},
   "outputs": [
    {
     "name": "stdout",
     "output_type": "stream",
     "text": [
      "(4977, 3)\n"
     ]
    },
    {
     "data": {
      "text/html": [
       "<div>\n",
       "<style scoped>\n",
       "    .dataframe tbody tr th:only-of-type {\n",
       "        vertical-align: middle;\n",
       "    }\n",
       "\n",
       "    .dataframe tbody tr th {\n",
       "        vertical-align: top;\n",
       "    }\n",
       "\n",
       "    .dataframe thead th {\n",
       "        text-align: right;\n",
       "    }\n",
       "</style>\n",
       "<table border=\"1\" class=\"dataframe\">\n",
       "  <thead>\n",
       "    <tr style=\"text-align: right;\">\n",
       "      <th></th>\n",
       "      <th>product_fit</th>\n",
       "      <th>castor</th>\n",
       "      <th>is_train</th>\n",
       "    </tr>\n",
       "  </thead>\n",
       "  <tbody>\n",
       "    <tr>\n",
       "      <th>5608</th>\n",
       "      <td>fitted</td>\n",
       "      <td>1006409003</td>\n",
       "      <td>True</td>\n",
       "    </tr>\n",
       "    <tr>\n",
       "      <th>61568</th>\n",
       "      <td>fitted</td>\n",
       "      <td>1066900001</td>\n",
       "      <td>True</td>\n",
       "    </tr>\n",
       "    <tr>\n",
       "      <th>60528</th>\n",
       "      <td>fitted</td>\n",
       "      <td>1065197004</td>\n",
       "      <td>True</td>\n",
       "    </tr>\n",
       "    <tr>\n",
       "      <th>68110</th>\n",
       "      <td>fitted</td>\n",
       "      <td>1081266001</td>\n",
       "      <td>True</td>\n",
       "    </tr>\n",
       "    <tr>\n",
       "      <th>8328</th>\n",
       "      <td>fitted</td>\n",
       "      <td>1009762004</td>\n",
       "      <td>True</td>\n",
       "    </tr>\n",
       "  </tbody>\n",
       "</table>\n",
       "</div>"
      ],
      "text/plain": [
       "      product_fit      castor  is_train\n",
       "5608       fitted  1006409003      True\n",
       "61568      fitted  1066900001      True\n",
       "60528      fitted  1065197004      True\n",
       "68110      fitted  1081266001      True\n",
       "8328       fitted  1009762004      True"
      ]
     },
     "execution_count": 54,
     "metadata": {},
     "output_type": "execute_result"
    }
   ],
   "source": [
    "sub_train = tmp.groupby(\"product_fit\").sample(frac=0.8)\n",
    "sub_train[\"is_train\"] = True\n",
    "print(sub_train.shape)\n",
    "sub_train.head()"
   ]
  },
  {
   "cell_type": "code",
   "execution_count": 55,
   "id": "d03f3045-b40d-4ad4-b918-9b7163bd015a",
   "metadata": {},
   "outputs": [
    {
     "name": "stdout",
     "output_type": "stream",
     "text": [
      "(71315, 5)\n"
     ]
    },
    {
     "data": {
      "text/html": [
       "<div>\n",
       "<style scoped>\n",
       "    .dataframe tbody tr th:only-of-type {\n",
       "        vertical-align: middle;\n",
       "    }\n",
       "\n",
       "    .dataframe tbody tr th {\n",
       "        vertical-align: top;\n",
       "    }\n",
       "\n",
       "    .dataframe thead th {\n",
       "        text-align: right;\n",
       "    }\n",
       "</style>\n",
       "<table border=\"1\" class=\"dataframe\">\n",
       "  <thead>\n",
       "    <tr style=\"text-align: right;\">\n",
       "      <th></th>\n",
       "      <th>path</th>\n",
       "      <th>castor</th>\n",
       "      <th>product_fit</th>\n",
       "      <th>labels</th>\n",
       "      <th>is_train</th>\n",
       "    </tr>\n",
       "  </thead>\n",
       "  <tbody>\n",
       "    <tr>\n",
       "      <th>0</th>\n",
       "      <td>extraLarge/descriptiveDetail/1000037001.jpg</td>\n",
       "      <td>1000037001</td>\n",
       "      <td>fitted</td>\n",
       "      <td>0</td>\n",
       "      <td>True</td>\n",
       "    </tr>\n",
       "    <tr>\n",
       "      <th>1</th>\n",
       "      <td>extraLarge/descriptiveStillLife/1000037001.jpg</td>\n",
       "      <td>1000037001</td>\n",
       "      <td>fitted</td>\n",
       "      <td>0</td>\n",
       "      <td>True</td>\n",
       "    </tr>\n",
       "    <tr>\n",
       "      <th>2</th>\n",
       "      <td>extraLarge/lookbook/1000037001.jpg</td>\n",
       "      <td>1000037001</td>\n",
       "      <td>fitted</td>\n",
       "      <td>0</td>\n",
       "      <td>True</td>\n",
       "    </tr>\n",
       "    <tr>\n",
       "      <th>3</th>\n",
       "      <td>extraSmall/descriptiveDetail/1000037001.jpg</td>\n",
       "      <td>1000037001</td>\n",
       "      <td>fitted</td>\n",
       "      <td>0</td>\n",
       "      <td>True</td>\n",
       "    </tr>\n",
       "    <tr>\n",
       "      <th>4</th>\n",
       "      <td>extraSmall/descriptiveStillLife/1000037001.jpg</td>\n",
       "      <td>1000037001</td>\n",
       "      <td>fitted</td>\n",
       "      <td>0</td>\n",
       "      <td>True</td>\n",
       "    </tr>\n",
       "  </tbody>\n",
       "</table>\n",
       "</div>"
      ],
      "text/plain": [
       "                                             path      castor product_fit  \\\n",
       "0     extraLarge/descriptiveDetail/1000037001.jpg  1000037001      fitted   \n",
       "1  extraLarge/descriptiveStillLife/1000037001.jpg  1000037001      fitted   \n",
       "2              extraLarge/lookbook/1000037001.jpg  1000037001      fitted   \n",
       "3     extraSmall/descriptiveDetail/1000037001.jpg  1000037001      fitted   \n",
       "4  extraSmall/descriptiveStillLife/1000037001.jpg  1000037001      fitted   \n",
       "\n",
       "   labels is_train  \n",
       "0       0     True  \n",
       "1       0     True  \n",
       "2       0     True  \n",
       "3       0     True  \n",
       "4       0     True  "
      ]
     },
     "execution_count": 55,
     "metadata": {},
     "output_type": "execute_result"
    }
   ],
   "source": [
    "final = out.merge(sub_train[[\"castor\", \"is_train\"]], on=\"castor\", how=\"left\")\n",
    "print(final.shape)\n",
    "final.head()"
   ]
  },
  {
   "cell_type": "code",
   "execution_count": 56,
   "id": "5daba2d9-f146-4c04-9622-f5d0d45e0cec",
   "metadata": {},
   "outputs": [
    {
     "data": {
      "text/plain": [
       "path           False\n",
       "castor         False\n",
       "product_fit    False\n",
       "labels         False\n",
       "is_train        True\n",
       "dtype: bool"
      ]
     },
     "execution_count": 56,
     "metadata": {},
     "output_type": "execute_result"
    }
   ],
   "source": [
    "final.isna().any()"
   ]
  },
  {
   "cell_type": "code",
   "execution_count": 57,
   "id": "a0535a38-bb29-4737-a3a4-4e2c42546cd6",
   "metadata": {},
   "outputs": [],
   "source": [
    "final.fillna(False, inplace=True)"
   ]
  },
  {
   "cell_type": "code",
   "execution_count": 58,
   "id": "6aaa1762-7a63-460e-b19c-5aa0621c48d5",
   "metadata": {},
   "outputs": [
    {
     "data": {
      "text/plain": [
       "path           False\n",
       "castor         False\n",
       "product_fit    False\n",
       "labels         False\n",
       "is_train       False\n",
       "dtype: bool"
      ]
     },
     "execution_count": 58,
     "metadata": {},
     "output_type": "execute_result"
    }
   ],
   "source": [
    "final.isna().any()"
   ]
  },
  {
   "cell_type": "code",
   "execution_count": 59,
   "id": "104c858e-92b4-433e-b1fe-83ca1924e797",
   "metadata": {},
   "outputs": [
    {
     "data": {
      "text/plain": [
       "path           object\n",
       "castor          int64\n",
       "product_fit    object\n",
       "labels           int8\n",
       "is_train         bool\n",
       "dtype: object"
      ]
     },
     "execution_count": 59,
     "metadata": {},
     "output_type": "execute_result"
    }
   ],
   "source": [
    "final.dtypes"
   ]
  },
  {
   "cell_type": "code",
   "execution_count": 60,
   "id": "36c37bd3-50c2-4613-94fc-51be749c8c28",
   "metadata": {},
   "outputs": [
    {
     "data": {
      "text/plain": [
       "57041"
      ]
     },
     "execution_count": 60,
     "metadata": {},
     "output_type": "execute_result"
    }
   ],
   "source": [
    "final.is_train.sum()"
   ]
  },
  {
   "cell_type": "code",
   "execution_count": 61,
   "id": "ea4ccb6f-3881-4756-9628-cc921f6ca102",
   "metadata": {},
   "outputs": [
    {
     "data": {
      "text/plain": [
       "14274"
      ]
     },
     "execution_count": 61,
     "metadata": {},
     "output_type": "execute_result"
    }
   ],
   "source": [
    "(~final.is_train).sum()"
   ]
  },
  {
   "cell_type": "code",
   "execution_count": 78,
   "id": "49bc3645-c3df-4fea-9ec6-3ee6690b640f",
   "metadata": {},
   "outputs": [
    {
     "data": {
      "text/plain": [
       "(57041, 4)"
      ]
     },
     "execution_count": 78,
     "metadata": {},
     "output_type": "execute_result"
    }
   ],
   "source": [
    "train = final.loc[final.is_train, [\"path\", \"castor\", \"product_fit\", \"labels\"]]\n",
    "train.shape"
   ]
  },
  {
   "cell_type": "code",
   "execution_count": 79,
   "id": "e6af67b8-29cc-4e26-9f72-e4b91cdf1d88",
   "metadata": {},
   "outputs": [
    {
     "data": {
      "text/plain": [
       "(14274, 4)"
      ]
     },
     "execution_count": 79,
     "metadata": {},
     "output_type": "execute_result"
    }
   ],
   "source": [
    "test = final.loc[~final.is_train, [\"path\", \"castor\", \"product_fit\", \"labels\"]]\n",
    "test.shape"
   ]
  },
  {
   "cell_type": "code",
   "execution_count": 69,
   "id": "b54c9986-b7c7-4871-a502-5441c665e785",
   "metadata": {},
   "outputs": [
    {
     "data": {
      "text/plain": [
       "oversized         11660\n",
       "regularfit        11035\n",
       "relaxedfit        10766\n",
       "fitted            10542\n",
       "loosefit           7385\n",
       "slimfit            3909\n",
       "skinnyfit          1340\n",
       "musclefit           268\n",
       "superskinnyfit      136\n",
       "Name: product_fit, dtype: int64"
      ]
     },
     "execution_count": 69,
     "metadata": {},
     "output_type": "execute_result"
    }
   ],
   "source": [
    "train.product_fit.value_counts()"
   ]
  },
  {
   "cell_type": "code",
   "execution_count": 70,
   "id": "6dff5d59-afb9-4adb-a450-6e9ca5b898cc",
   "metadata": {},
   "outputs": [
    {
     "data": {
      "text/plain": [
       "oversized         2920\n",
       "regularfit        2731\n",
       "relaxedfit        2679\n",
       "fitted            2616\n",
       "loosefit          1896\n",
       "slimfit            992\n",
       "skinnyfit          332\n",
       "musclefit           72\n",
       "superskinnyfit      36\n",
       "Name: product_fit, dtype: int64"
      ]
     },
     "execution_count": 70,
     "metadata": {},
     "output_type": "execute_result"
    }
   ],
   "source": [
    "test.product_fit.value_counts()"
   ]
  },
  {
   "cell_type": "code",
   "execution_count": 76,
   "id": "56455671-0546-45e0-a357-6631a2e8f224",
   "metadata": {},
   "outputs": [],
   "source": [
    "assert not set(train.castor) & set(test.castor)"
   ]
  },
  {
   "cell_type": "markdown",
   "id": "ccf9df3c-e8f1-42f9-9c77-4dafac860e17",
   "metadata": {
    "tags": []
   },
   "source": [
    "# Write data"
   ]
  },
  {
   "cell_type": "code",
   "execution_count": 43,
   "id": "d762eb07-e4f1-4028-94da-fa5375e77e83",
   "metadata": {},
   "outputs": [],
   "source": [
    "train_fit = out.iloc[train_idxs, :]\n",
    "test_fit = out.iloc[test_idxs, :]"
   ]
  },
  {
   "cell_type": "code",
   "execution_count": 51,
   "id": "f6f26741-87a0-4ad2-a5e8-952e6be25d5b",
   "metadata": {},
   "outputs": [
    {
     "name": "stdout",
     "output_type": "stream",
     "text": [
      "(35656, 4)\n",
      "(35659, 4)\n"
     ]
    }
   ],
   "source": [
    "print(train_fit.shape)\n",
    "print(test_fit.shape)"
   ]
  },
  {
   "cell_type": "code",
   "execution_count": 77,
   "id": "f39835c7-e3a2-4050-a703-b5fe836e8cdc",
   "metadata": {},
   "outputs": [],
   "source": [
    "# out.to_csv(os.path.join(root, annotation_path, \"full_fit.csv\"), index=False)\n",
    "\n",
    "# train_fit.to_csv(os.path.join(root, annotation_path, \"train.csv\"), index=False)\n",
    "# test_fit.to_csv(os.path.join(root, annotation_path, \"test.csv\"), index=False)"
   ]
  },
  {
   "cell_type": "code",
   "execution_count": 45,
   "id": "0d03f62c-5ca3-4418-809a-777108e53315",
   "metadata": {},
   "outputs": [],
   "source": [
    "out_gcp = out[[\"path\", \"product_fit\"]].copy()\n",
    "out_gcp[\"path\"] = \"gs://hm-images-bucket/images/\" + out_gcp[\"path\"]"
   ]
  },
  {
   "cell_type": "code",
   "execution_count": 46,
   "id": "eb4805d3-c615-4ac1-97c8-7ed85b319e26",
   "metadata": {},
   "outputs": [],
   "source": [
    "out_gcp[\"mode\"] = \"VALIDATION\"\n",
    "out_gcp.loc[train_idxs, \"mode\"] = \"TRAINING\""
   ]
  },
  {
   "cell_type": "code",
   "execution_count": 47,
   "id": "cb2a114b-dadd-4588-80ac-d650fe7f28bc",
   "metadata": {},
   "outputs": [
    {
     "data": {
      "text/html": [
       "<div>\n",
       "<style scoped>\n",
       "    .dataframe tbody tr th:only-of-type {\n",
       "        vertical-align: middle;\n",
       "    }\n",
       "\n",
       "    .dataframe tbody tr th {\n",
       "        vertical-align: top;\n",
       "    }\n",
       "\n",
       "    .dataframe thead th {\n",
       "        text-align: right;\n",
       "    }\n",
       "</style>\n",
       "<table border=\"1\" class=\"dataframe\">\n",
       "  <thead>\n",
       "    <tr style=\"text-align: right;\">\n",
       "      <th></th>\n",
       "      <th>mode</th>\n",
       "      <th>path</th>\n",
       "      <th>product_fit</th>\n",
       "    </tr>\n",
       "  </thead>\n",
       "  <tbody>\n",
       "    <tr>\n",
       "      <th>0</th>\n",
       "      <td>TRAINING</td>\n",
       "      <td>gs://hm-images-bucket/images/extraLarge/descri...</td>\n",
       "      <td>fitted</td>\n",
       "    </tr>\n",
       "    <tr>\n",
       "      <th>1</th>\n",
       "      <td>TRAINING</td>\n",
       "      <td>gs://hm-images-bucket/images/extraLarge/descri...</td>\n",
       "      <td>fitted</td>\n",
       "    </tr>\n",
       "    <tr>\n",
       "      <th>2</th>\n",
       "      <td>TRAINING</td>\n",
       "      <td>gs://hm-images-bucket/images/extraLarge/lookbo...</td>\n",
       "      <td>fitted</td>\n",
       "    </tr>\n",
       "    <tr>\n",
       "      <th>3</th>\n",
       "      <td>TRAINING</td>\n",
       "      <td>gs://hm-images-bucket/images/extraSmall/descri...</td>\n",
       "      <td>fitted</td>\n",
       "    </tr>\n",
       "    <tr>\n",
       "      <th>4</th>\n",
       "      <td>TRAINING</td>\n",
       "      <td>gs://hm-images-bucket/images/extraSmall/descri...</td>\n",
       "      <td>fitted</td>\n",
       "    </tr>\n",
       "    <tr>\n",
       "      <th>...</th>\n",
       "      <td>...</td>\n",
       "      <td>...</td>\n",
       "      <td>...</td>\n",
       "    </tr>\n",
       "    <tr>\n",
       "      <th>71310</th>\n",
       "      <td>TRAINING</td>\n",
       "      <td>gs://hm-images-bucket/images/medium/lookbook/1...</td>\n",
       "      <td>relaxedfit</td>\n",
       "    </tr>\n",
       "    <tr>\n",
       "      <th>71311</th>\n",
       "      <td>VALIDATION</td>\n",
       "      <td>gs://hm-images-bucket/images/extraLarge/lookbo...</td>\n",
       "      <td>regularfit</td>\n",
       "    </tr>\n",
       "    <tr>\n",
       "      <th>71312</th>\n",
       "      <td>VALIDATION</td>\n",
       "      <td>gs://hm-images-bucket/images/extraSmall/lookbo...</td>\n",
       "      <td>regularfit</td>\n",
       "    </tr>\n",
       "    <tr>\n",
       "      <th>71313</th>\n",
       "      <td>VALIDATION</td>\n",
       "      <td>gs://hm-images-bucket/images/large/lookbook/10...</td>\n",
       "      <td>regularfit</td>\n",
       "    </tr>\n",
       "    <tr>\n",
       "      <th>71314</th>\n",
       "      <td>VALIDATION</td>\n",
       "      <td>gs://hm-images-bucket/images/medium/lookbook/1...</td>\n",
       "      <td>regularfit</td>\n",
       "    </tr>\n",
       "  </tbody>\n",
       "</table>\n",
       "<p>71315 rows × 3 columns</p>\n",
       "</div>"
      ],
      "text/plain": [
       "             mode                                               path  \\\n",
       "0        TRAINING  gs://hm-images-bucket/images/extraLarge/descri...   \n",
       "1        TRAINING  gs://hm-images-bucket/images/extraLarge/descri...   \n",
       "2        TRAINING  gs://hm-images-bucket/images/extraLarge/lookbo...   \n",
       "3        TRAINING  gs://hm-images-bucket/images/extraSmall/descri...   \n",
       "4        TRAINING  gs://hm-images-bucket/images/extraSmall/descri...   \n",
       "...           ...                                                ...   \n",
       "71310    TRAINING  gs://hm-images-bucket/images/medium/lookbook/1...   \n",
       "71311  VALIDATION  gs://hm-images-bucket/images/extraLarge/lookbo...   \n",
       "71312  VALIDATION  gs://hm-images-bucket/images/extraSmall/lookbo...   \n",
       "71313  VALIDATION  gs://hm-images-bucket/images/large/lookbook/10...   \n",
       "71314  VALIDATION  gs://hm-images-bucket/images/medium/lookbook/1...   \n",
       "\n",
       "      product_fit  \n",
       "0          fitted  \n",
       "1          fitted  \n",
       "2          fitted  \n",
       "3          fitted  \n",
       "4          fitted  \n",
       "...           ...  \n",
       "71310  relaxedfit  \n",
       "71311  regularfit  \n",
       "71312  regularfit  \n",
       "71313  regularfit  \n",
       "71314  regularfit  \n",
       "\n",
       "[71315 rows x 3 columns]"
      ]
     },
     "execution_count": 47,
     "metadata": {},
     "output_type": "execute_result"
    }
   ],
   "source": [
    "out_gcp = out_gcp[[\"mode\", \"path\", \"product_fit\"]]\n",
    "out_gcp"
   ]
  },
  {
   "cell_type": "code",
   "execution_count": 48,
   "id": "6418c737-55a3-4ee9-bf57-8d09dc5135c8",
   "metadata": {},
   "outputs": [
    {
     "data": {
      "text/plain": [
       "(71315, 3)"
      ]
     },
     "execution_count": 48,
     "metadata": {},
     "output_type": "execute_result"
    }
   ],
   "source": [
    "out_gcp.shape"
   ]
  },
  {
   "cell_type": "code",
   "execution_count": 86,
   "id": "ae3b27e7-e6e5-4063-ae46-a8fa26d6cf59",
   "metadata": {},
   "outputs": [],
   "source": [
    "# out_gcp.to_csv(os.path.join(root, annotation_path, \"full_fit_gcai.csv\"), index=False, header=False)"
   ]
  },
  {
   "cell_type": "code",
   "execution_count": null,
   "id": "25838011-95ae-4f94-9517-73b350730213",
   "metadata": {},
   "outputs": [],
   "source": []
  }
 ],
 "metadata": {
  "environment": {
   "kernel": "python3",
   "name": "pytorch-gpu.1-11.m91",
   "type": "gcloud",
   "uri": "gcr.io/deeplearning-platform-release/pytorch-gpu.1-11:m91"
  },
  "kernelspec": {
   "display_name": "Python 3",
   "language": "python",
   "name": "python3"
  },
  "language_info": {
   "codemirror_mode": {
    "name": "ipython",
    "version": 3
   },
   "file_extension": ".py",
   "mimetype": "text/x-python",
   "name": "python",
   "nbconvert_exporter": "python",
   "pygments_lexer": "ipython3",
   "version": "3.7.12"
  }
 },
 "nbformat": 4,
 "nbformat_minor": 5
}
