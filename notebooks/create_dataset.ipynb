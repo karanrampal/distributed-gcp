{
 "cells": [
  {
   "cell_type": "markdown",
   "id": "211c5063-6c6c-400b-8f2d-21da328b9e71",
   "metadata": {},
   "source": [
    "# Import libraries"
   ]
  },
  {
   "cell_type": "code",
   "execution_count": null,
   "id": "9ecd2f79-5bd6-4f10-a35a-620d938b7eeb",
   "metadata": {},
   "outputs": [],
   "source": [
    "import os\n",
    "\n",
    "import gcsfs\n",
    "import pandas as pd\n",
    "from sklearn.model_selection import StratifiedGroupKFold"
   ]
  },
  {
   "cell_type": "code",
   "execution_count": null,
   "id": "b824869e-f39c-4815-bf6c-20a10a90a3c8",
   "metadata": {},
   "outputs": [],
   "source": [
    "gfs = gcsfs.GCSFileSystem(project=\"smle-attribution-d237\")"
   ]
  },
  {
   "cell_type": "markdown",
   "id": "22164f39-f630-4454-8b8e-6897badaea1c",
   "metadata": {},
   "source": [
    "# Define variables"
   ]
  },
  {
   "cell_type": "code",
   "execution_count": null,
   "id": "9a7f0335-aa7b-4d3c-b6ab-a0a7680eaa72",
   "metadata": {
    "tags": []
   },
   "outputs": [],
   "source": [
    "root = \"gs://hm-images-bucket/\"\n",
    "img_path = \"images\"\n",
    "annotation_path = \"annotations\""
   ]
  },
  {
   "cell_type": "markdown",
   "id": "05ff6b1b-bee1-414d-b8ec-4cf425fdf48d",
   "metadata": {},
   "source": [
    "# Image counts"
   ]
  },
  {
   "cell_type": "code",
   "execution_count": null,
   "id": "5e7cf888-3b06-434a-adcc-4dd566ea4892",
   "metadata": {},
   "outputs": [],
   "source": [
    "total = 0\n",
    "for base, dirs, files in gfs.walk(os.path.join(root, img_path)):\n",
    "    count = len(files)\n",
    "    total += count\n",
    "    print(f\"{base}: {count}\")\n",
    "print(f\"Total: {total}\")"
   ]
  },
  {
   "cell_type": "markdown",
   "id": "0669a6f8-1d0b-4433-8000-7ce3d41be8f2",
   "metadata": {},
   "source": [
    "# Create data"
   ]
  },
  {
   "cell_type": "code",
   "execution_count": null,
   "id": "5843399c-c29f-42e6-b97b-1305e65ca10f",
   "metadata": {},
   "outputs": [],
   "source": [
    "num = len(os.path.join(root, img_path)) - 4\n",
    "\n",
    "file_list = gfs.glob(root + \"images/**/*.jpg\", recursive=True)\n",
    "castor_list = [int(os.path.basename(path)[:-4]) for path in file_list]\n",
    "path_list = [path[num:] for path in file_list]\n",
    "print(len(file_list))"
   ]
  },
  {
   "cell_type": "code",
   "execution_count": null,
   "id": "5fe1648e-dd18-412d-913e-aadb2c9b6a46",
   "metadata": {},
   "outputs": [],
   "source": [
    "df = pd.DataFrame(data=\n",
    "    {\n",
    "        \"path\": path_list,\n",
    "        \"castor\": castor_list\n",
    "    }\n",
    ")\n",
    "print(df.shape)\n",
    "df.head()"
   ]
  },
  {
   "cell_type": "code",
   "execution_count": null,
   "id": "1907afe5-a9f7-45ef-92fe-40df0ac5526e",
   "metadata": {},
   "outputs": [],
   "source": [
    "# df.to_csv(os.path.join(root, annotation_path, \"castors.csv\"), index=False)"
   ]
  },
  {
   "cell_type": "markdown",
   "id": "6d34b26f-8f05-42d6-8449-378fa9afe7ab",
   "metadata": {
    "tags": []
   },
   "source": [
    "# Padma table"
   ]
  },
  {
   "cell_type": "code",
   "execution_count": null,
   "id": "661fe91a-919d-421a-a83e-28df09c1bd6a",
   "metadata": {},
   "outputs": [],
   "source": [
    "padma = pd.read_parquet(\"gs://hdl-tables/dma/product_article_datamart\",\n",
    "                        columns=[\"product_code\", \"article_code\", \"castor\"])\n",
    "print(padma.shape)\n",
    "padma.head()"
   ]
  },
  {
   "cell_type": "code",
   "execution_count": null,
   "id": "626f3a95-b28a-4de8-929c-5d80b7b114ae",
   "metadata": {},
   "outputs": [],
   "source": [
    "padma.isna().any()"
   ]
  },
  {
   "cell_type": "code",
   "execution_count": null,
   "id": "a575c217-dff5-4e0b-8ac2-233b4c671547",
   "metadata": {},
   "outputs": [],
   "source": [
    "padma = padma.drop_duplicates()\n",
    "padma.shape"
   ]
  },
  {
   "cell_type": "code",
   "execution_count": null,
   "id": "3869ccf2-c432-431e-b547-c35f7318d543",
   "metadata": {},
   "outputs": [],
   "source": [
    "padma.isna().any()"
   ]
  },
  {
   "cell_type": "code",
   "execution_count": null,
   "id": "712760f0-641e-46d2-8f16-5995b1f5688d",
   "metadata": {},
   "outputs": [],
   "source": [
    "padma.dtypes"
   ]
  },
  {
   "cell_type": "code",
   "execution_count": null,
   "id": "9f42a587-543d-4c8c-98dc-b93bfecb45e2",
   "metadata": {},
   "outputs": [],
   "source": [
    "padma.castor = padma.castor.astype(int)\n",
    "padma.dtypes"
   ]
  },
  {
   "cell_type": "markdown",
   "id": "a9b0918e-d07d-4714-b621-da58f1afb754",
   "metadata": {},
   "source": [
    "# PIM table"
   ]
  },
  {
   "cell_type": "code",
   "execution_count": null,
   "id": "c93cd23c-e54c-4125-83e5-b6b79f9d2469",
   "metadata": {},
   "outputs": [],
   "source": [
    "pim = pd.read_parquet(\"gs://hdl-tables/dim/dim_pim\",\n",
    "                      columns=[\"product_code\", \"article_code\", \"product_fit\"])\n",
    "print(pim.shape)\n",
    "pim.head()"
   ]
  },
  {
   "cell_type": "code",
   "execution_count": null,
   "id": "6cf3df48-681d-4371-aca2-6c814ef9868d",
   "metadata": {},
   "outputs": [],
   "source": [
    "pim.isna().any()"
   ]
  },
  {
   "cell_type": "code",
   "execution_count": null,
   "id": "7c630695-726a-485f-bcd6-7e9b26b65cbe",
   "metadata": {},
   "outputs": [],
   "source": [
    "pim.isna().sum()"
   ]
  },
  {
   "cell_type": "code",
   "execution_count": null,
   "id": "c08c5454-3be7-4bee-9f3a-bacecd17ad5a",
   "metadata": {},
   "outputs": [],
   "source": [
    "pim = pim.dropna(axis=0, subset=[\"article_code\", \"product_fit\"])\n",
    "print(pim.shape)\n",
    "pim.head()"
   ]
  },
  {
   "cell_type": "code",
   "execution_count": null,
   "id": "eda2290a-5c1b-4cc9-a382-8e5669fa1fb8",
   "metadata": {},
   "outputs": [],
   "source": [
    "pim[\"product_fit\"].value_counts()"
   ]
  },
  {
   "cell_type": "code",
   "execution_count": null,
   "id": "909b7ae6-68d3-41a8-aea9-465a6fb705ca",
   "metadata": {
    "tags": []
   },
   "outputs": [],
   "source": [
    "pim = pim.drop_duplicates()\n",
    "pim.shape"
   ]
  },
  {
   "cell_type": "code",
   "execution_count": null,
   "id": "2632d57f-3a75-42ce-aa47-18a4fa1f6a7c",
   "metadata": {},
   "outputs": [],
   "source": [
    "pim.isna().any()"
   ]
  },
  {
   "cell_type": "markdown",
   "id": "072dc93d-e825-42a4-80e7-87baa620ec42",
   "metadata": {},
   "source": [
    "# Merge pim, padma"
   ]
  },
  {
   "cell_type": "code",
   "execution_count": null,
   "id": "2bbd637c-ab34-432b-80f5-671477214a98",
   "metadata": {},
   "outputs": [],
   "source": [
    "data = pim.merge(padma, on=[\"product_code\", \"article_code\"], how=\"left\")\n",
    "print(data.shape)\n",
    "data.head()"
   ]
  },
  {
   "cell_type": "code",
   "execution_count": null,
   "id": "117e2e2e-a574-4456-8446-e5715e8cd3ea",
   "metadata": {},
   "outputs": [],
   "source": [
    "data.dtypes"
   ]
  },
  {
   "cell_type": "code",
   "execution_count": null,
   "id": "02b9810c-f3c2-42da-a9b1-9f809efa03a5",
   "metadata": {},
   "outputs": [],
   "source": [
    "data = data[~data[\"product_fit\"].str.contains(\"[\", regex=False)]\n",
    "print(data.shape)\n",
    "data.head()"
   ]
  },
  {
   "cell_type": "code",
   "execution_count": null,
   "id": "f4482cfe-b014-471c-8694-ebc195d72671",
   "metadata": {},
   "outputs": [],
   "source": [
    "data.isna().any()"
   ]
  },
  {
   "cell_type": "code",
   "execution_count": null,
   "id": "273b270f-73ef-4c43-9228-1b31b7f4c5dd",
   "metadata": {},
   "outputs": [],
   "source": [
    "data = data.drop(axis=1, labels=[\"product_code\", \"article_code\"])\n",
    "data.shape"
   ]
  },
  {
   "cell_type": "markdown",
   "id": "da58de0d-cc8a-4a52-b892-94aff208bb02",
   "metadata": {},
   "source": [
    "# Merge with castors"
   ]
  },
  {
   "cell_type": "code",
   "execution_count": null,
   "id": "9eecf29f-a81b-44f3-bd24-4e854f7cc353",
   "metadata": {},
   "outputs": [],
   "source": [
    "df.dtypes"
   ]
  },
  {
   "cell_type": "code",
   "execution_count": null,
   "id": "e56992f9-8698-4546-9642-be61f1bd50bd",
   "metadata": {},
   "outputs": [],
   "source": [
    "out = df.merge(data, on=\"castor\", how=\"inner\")\n",
    "print(out.shape)\n",
    "out.head()"
   ]
  },
  {
   "cell_type": "code",
   "execution_count": null,
   "id": "003affe5-6a77-4544-94c8-f0fcaf9d0920",
   "metadata": {},
   "outputs": [],
   "source": [
    "out.isna().any()"
   ]
  },
  {
   "cell_type": "code",
   "execution_count": null,
   "id": "90c131da-e6f7-4f00-ad4e-24fe1238f6e8",
   "metadata": {},
   "outputs": [],
   "source": [
    "out.dtypes"
   ]
  },
  {
   "cell_type": "code",
   "execution_count": null,
   "id": "bb093509-d824-43a9-811f-04174735d560",
   "metadata": {},
   "outputs": [],
   "source": [
    "out.castor.unique().shape"
   ]
  },
  {
   "cell_type": "code",
   "execution_count": null,
   "id": "dac0c7e1-aea0-47fc-b62c-2f7edb384e0d",
   "metadata": {},
   "outputs": [],
   "source": [
    "out[\"product_fit\"].value_counts()"
   ]
  },
  {
   "cell_type": "code",
   "execution_count": null,
   "id": "07ed38a3-3d24-4ca7-9424-3a82a48e57a2",
   "metadata": {},
   "outputs": [],
   "source": [
    "out[\"labels\"] = out[\"product_fit\"].astype(\"category\").cat.codes\n",
    "print(out.shape)\n",
    "out.head()"
   ]
  },
  {
   "cell_type": "code",
   "execution_count": null,
   "id": "5e756edc-0a3a-49d2-b916-e4f8a0e94ba9",
   "metadata": {},
   "outputs": [],
   "source": [
    "out.labels.value_counts()"
   ]
  },
  {
   "cell_type": "markdown",
   "id": "e158197e-aa82-4164-88fa-9ba4e8498f28",
   "metadata": {},
   "source": [
    "# Split data"
   ]
  },
  {
   "cell_type": "code",
   "execution_count": null,
   "id": "45035001-bc9c-4764-8e5e-b0e441de01e8",
   "metadata": {},
   "outputs": [],
   "source": [
    "cv = StratifiedGroupKFold(n_splits=2)"
   ]
  },
  {
   "cell_type": "code",
   "execution_count": null,
   "id": "796fdb8f-fe62-41a8-9445-f61564112e6e",
   "metadata": {
    "scrolled": true,
    "tags": []
   },
   "outputs": [],
   "source": [
    "train_idxs, test_idxs = next(cv.split(out.path, out.labels, out.castor))\n",
    "print(\"TRAIN:\", out.castor[train_idxs], out.labels[train_idxs])\n",
    "print(\" TEST:\", out.castor[test_idxs], out.labels[test_idxs])"
   ]
  },
  {
   "cell_type": "code",
   "execution_count": null,
   "id": "3c2c5507-16c1-488d-88e9-2df4ad02fccf",
   "metadata": {},
   "outputs": [],
   "source": [
    "len(train_idxs)"
   ]
  },
  {
   "cell_type": "code",
   "execution_count": null,
   "id": "9ebbccb0-7819-41dc-93b4-1497c1b33fd0",
   "metadata": {},
   "outputs": [],
   "source": [
    "len(test_idxs)"
   ]
  },
  {
   "cell_type": "markdown",
   "id": "763a7a73-feb9-48ff-af4e-e6ce22bf6301",
   "metadata": {},
   "source": [
    "# Split data 2"
   ]
  },
  {
   "cell_type": "code",
   "execution_count": null,
   "id": "af64e96c-ce8e-4d68-9ec2-8a1b0463d667",
   "metadata": {},
   "outputs": [],
   "source": [
    "tmp = out[[\"product_fit\", \"castor\"]].drop_duplicates()\n",
    "print(tmp.shape)\n",
    "tmp.head()"
   ]
  },
  {
   "cell_type": "code",
   "execution_count": null,
   "id": "8378bfbd-7787-48dc-ad88-4c6496fbf95f",
   "metadata": {},
   "outputs": [],
   "source": [
    "sub_train = tmp.groupby(\"product_fit\").sample(frac=0.8)\n",
    "sub_train[\"is_train\"] = True\n",
    "print(sub_train.shape)\n",
    "sub_train.head()"
   ]
  },
  {
   "cell_type": "code",
   "execution_count": null,
   "id": "d03f3045-b40d-4ad4-b918-9b7163bd015a",
   "metadata": {},
   "outputs": [],
   "source": [
    "final = out.merge(sub_train[[\"castor\", \"is_train\"]], on=\"castor\", how=\"left\")\n",
    "print(final.shape)\n",
    "final.head()"
   ]
  },
  {
   "cell_type": "code",
   "execution_count": null,
   "id": "5daba2d9-f146-4c04-9622-f5d0d45e0cec",
   "metadata": {},
   "outputs": [],
   "source": [
    "final.isna().any()"
   ]
  },
  {
   "cell_type": "code",
   "execution_count": null,
   "id": "a0535a38-bb29-4737-a3a4-4e2c42546cd6",
   "metadata": {},
   "outputs": [],
   "source": [
    "final.fillna(False, inplace=True)"
   ]
  },
  {
   "cell_type": "code",
   "execution_count": null,
   "id": "6aaa1762-7a63-460e-b19c-5aa0621c48d5",
   "metadata": {},
   "outputs": [],
   "source": [
    "final.isna().any()"
   ]
  },
  {
   "cell_type": "code",
   "execution_count": null,
   "id": "104c858e-92b4-433e-b1fe-83ca1924e797",
   "metadata": {},
   "outputs": [],
   "source": [
    "final.dtypes"
   ]
  },
  {
   "cell_type": "code",
   "execution_count": null,
   "id": "36c37bd3-50c2-4613-94fc-51be749c8c28",
   "metadata": {},
   "outputs": [],
   "source": [
    "final.is_train.sum()"
   ]
  },
  {
   "cell_type": "code",
   "execution_count": null,
   "id": "ea4ccb6f-3881-4756-9628-cc921f6ca102",
   "metadata": {},
   "outputs": [],
   "source": [
    "(~final.is_train).sum()"
   ]
  },
  {
   "cell_type": "code",
   "execution_count": null,
   "id": "49bc3645-c3df-4fea-9ec6-3ee6690b640f",
   "metadata": {},
   "outputs": [],
   "source": [
    "train = final.loc[final.is_train, [\"path\", \"castor\", \"product_fit\", \"labels\"]]\n",
    "train.shape"
   ]
  },
  {
   "cell_type": "code",
   "execution_count": null,
   "id": "e6af67b8-29cc-4e26-9f72-e4b91cdf1d88",
   "metadata": {},
   "outputs": [],
   "source": [
    "test = final.loc[~final.is_train, [\"path\", \"castor\", \"product_fit\", \"labels\"]]\n",
    "test.shape"
   ]
  },
  {
   "cell_type": "code",
   "execution_count": null,
   "id": "b54c9986-b7c7-4871-a502-5441c665e785",
   "metadata": {},
   "outputs": [],
   "source": [
    "train.product_fit.value_counts()"
   ]
  },
  {
   "cell_type": "code",
   "execution_count": null,
   "id": "6dff5d59-afb9-4adb-a450-6e9ca5b898cc",
   "metadata": {},
   "outputs": [],
   "source": [
    "test.product_fit.value_counts()"
   ]
  },
  {
   "cell_type": "code",
   "execution_count": null,
   "id": "56455671-0546-45e0-a357-6631a2e8f224",
   "metadata": {},
   "outputs": [],
   "source": [
    "assert not set(train.castor) & set(test.castor)"
   ]
  },
  {
   "cell_type": "markdown",
   "id": "ccf9df3c-e8f1-42f9-9c77-4dafac860e17",
   "metadata": {
    "tags": []
   },
   "source": [
    "# Write data"
   ]
  },
  {
   "cell_type": "code",
   "execution_count": null,
   "id": "d762eb07-e4f1-4028-94da-fa5375e77e83",
   "metadata": {},
   "outputs": [],
   "source": [
    "train_fit = out.iloc[train_idxs, :]\n",
    "test_fit = out.iloc[test_idxs, :]"
   ]
  },
  {
   "cell_type": "code",
   "execution_count": null,
   "id": "f6f26741-87a0-4ad2-a5e8-952e6be25d5b",
   "metadata": {},
   "outputs": [],
   "source": [
    "print(train_fit.shape)\n",
    "print(test_fit.shape)"
   ]
  },
  {
   "cell_type": "code",
   "execution_count": null,
   "id": "f39835c7-e3a2-4050-a703-b5fe836e8cdc",
   "metadata": {},
   "outputs": [],
   "source": [
    "# out.to_csv(os.path.join(root, annotation_path, \"full_fit.csv\"), index=False)\n",
    "\n",
    "# train_fit.to_csv(os.path.join(root, annotation_path, \"train.csv\"), index=False)\n",
    "# test_fit.to_csv(os.path.join(root, annotation_path, \"test.csv\"), index=False)"
   ]
  },
  {
   "cell_type": "code",
   "execution_count": null,
   "id": "0d03f62c-5ca3-4418-809a-777108e53315",
   "metadata": {},
   "outputs": [],
   "source": [
    "out_gcp = out[[\"path\", \"product_fit\"]].copy()\n",
    "out_gcp[\"path\"] = \"gs://hm-images-bucket/images/\" + out_gcp[\"path\"]"
   ]
  },
  {
   "cell_type": "code",
   "execution_count": null,
   "id": "eb4805d3-c615-4ac1-97c8-7ed85b319e26",
   "metadata": {},
   "outputs": [],
   "source": [
    "out_gcp[\"mode\"] = \"VALIDATION\"\n",
    "out_gcp.loc[train_idxs, \"mode\"] = \"TRAINING\""
   ]
  },
  {
   "cell_type": "code",
   "execution_count": null,
   "id": "cb2a114b-dadd-4588-80ac-d650fe7f28bc",
   "metadata": {},
   "outputs": [],
   "source": [
    "out_gcp = out_gcp[[\"mode\", \"path\", \"product_fit\"]]\n",
    "out_gcp"
   ]
  },
  {
   "cell_type": "code",
   "execution_count": null,
   "id": "6418c737-55a3-4ee9-bf57-8d09dc5135c8",
   "metadata": {},
   "outputs": [],
   "source": [
    "out_gcp.shape"
   ]
  },
  {
   "cell_type": "code",
   "execution_count": null,
   "id": "ae3b27e7-e6e5-4063-ae46-a8fa26d6cf59",
   "metadata": {},
   "outputs": [],
   "source": [
    "# out_gcp.to_csv(os.path.join(root, annotation_path, \"full_fit_gcai.csv\"), index=False, header=False)"
   ]
  },
  {
   "cell_type": "code",
   "execution_count": null,
   "id": "25838011-95ae-4f94-9517-73b350730213",
   "metadata": {},
   "outputs": [],
   "source": []
  }
 ],
 "metadata": {
  "environment": {
   "kernel": "python3",
   "name": "pytorch-gpu.1-11.m91",
   "type": "gcloud",
   "uri": "gcr.io/deeplearning-platform-release/pytorch-gpu.1-11:m91"
  },
  "kernelspec": {
   "display_name": "Python 3",
   "language": "python",
   "name": "python3"
  },
  "language_info": {
   "codemirror_mode": {
    "name": "ipython",
    "version": 3
   },
   "file_extension": ".py",
   "mimetype": "text/x-python",
   "name": "python",
   "nbconvert_exporter": "python",
   "pygments_lexer": "ipython3",
   "version": "3.7.12"
  }
 },
 "nbformat": 4,
 "nbformat_minor": 5
}
