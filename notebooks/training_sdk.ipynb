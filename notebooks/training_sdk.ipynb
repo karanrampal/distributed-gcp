{
 "cells": [
  {
   "cell_type": "markdown",
   "id": "c1bbcfd8-c40f-466e-bb92-b820b53f13da",
   "metadata": {},
   "source": [
    "# Import libraries"
   ]
  },
  {
   "cell_type": "code",
   "execution_count": null,
   "id": "199ba70a-c16a-462c-bc4f-809931b59027",
   "metadata": {},
   "outputs": [],
   "source": [
    "import glob\n",
    "import os\n",
    "\n",
    "from google.cloud import aiplatform"
   ]
  },
  {
   "cell_type": "markdown",
   "id": "4c67d447-0fa6-4ff4-8a28-0ff034701ce7",
   "metadata": {},
   "source": [
    "# Set variables"
   ]
  },
  {
   "cell_type": "code",
   "execution_count": null,
   "id": "2c3c450c-b9fd-4e14-8a19-0226ed7dd47e",
   "metadata": {},
   "outputs": [],
   "source": [
    "project_id = \"smle-attribution-d237\"\n",
    "bucket_name = \"gs://attribute-models-bucket/fit-model\"\n",
    "region = \"europe-west4\"\n",
    "service_account = \"awesomeserviceaccount@smle-attribution-d237.iam.gserviceaccount.com\"\n",
    "image_uri = \"europe-docker.pkg.dev/vertex-ai/training/pytorch-gpu.1-11:latest\"\n",
    "\n",
    "tensorboard_name = \"karan_tb\"\n",
    "tb_resource_name = f\"projects/737104763822/locations/{region}/tensorboards/5001001095590313984\"\n",
    "\n",
    "display_name = \"fit_custom\"\n",
    "module_name = \"trainer.train\"\n",
    "gcs_output_uri_prefix = f\"{bucket_name}/{display_name}\""
   ]
  },
  {
   "cell_type": "code",
   "execution_count": null,
   "id": "37bbb1a3-38e6-4905-9a3c-0953203d0226",
   "metadata": {},
   "outputs": [],
   "source": [
    "os.environ[\"bucket_name\"] = bucket_name"
   ]
  },
  {
   "cell_type": "markdown",
   "id": "0b239e3a-e8ca-4fae-a620-ca9ba82fbc1c",
   "metadata": {},
   "source": [
    "# Setup Vertex AI"
   ]
  },
  {
   "cell_type": "code",
   "execution_count": null,
   "id": "f03cbb19-ad92-4284-acdb-9e1faa7fe9fa",
   "metadata": {},
   "outputs": [],
   "source": [
    "aiplatform.init(\n",
    "    project=project_id,\n",
    "    staging_bucket=bucket_name,\n",
    "    location=region,\n",
    ")"
   ]
  },
  {
   "cell_type": "markdown",
   "id": "e59cf162-8de4-4e5d-96f6-0159464f5c6f",
   "metadata": {},
   "source": [
    "# Tensorboard instance"
   ]
  },
  {
   "cell_type": "markdown",
   "id": "6834dc93-f01a-4ecf-b741-0855b6b01c72",
   "metadata": {},
   "source": [
    "Create instance"
   ]
  },
  {
   "cell_type": "code",
   "execution_count": null,
   "id": "3f755cc4-b008-4571-8f5e-2ce3b5b36480",
   "metadata": {},
   "outputs": [],
   "source": [
    "# tensorboard = aiplatform.Tensorboard.create(\n",
    "#     display_name=tensorboard_name,\n",
    "#     location=region,\n",
    "#     project=project_id,\n",
    "# )"
   ]
  },
  {
   "cell_type": "markdown",
   "id": "57990627-9443-47cb-a049-bdaa27c698b2",
   "metadata": {},
   "source": [
    "Use existing instance"
   ]
  },
  {
   "cell_type": "code",
   "execution_count": null,
   "id": "85cc3ea8-d44a-43aa-8b05-5ed1deb7fb5d",
   "metadata": {},
   "outputs": [],
   "source": [
    "tensorboard = aiplatform.Tensorboard(tb_resource_name)"
   ]
  },
  {
   "cell_type": "markdown",
   "id": "6f7b5f63-fefc-4507-82ee-20693e31adfd",
   "metadata": {
    "tags": []
   },
   "source": [
    "# Make package"
   ]
  },
  {
   "cell_type": "code",
   "execution_count": null,
   "id": "58ce59be-417a-41bf-94be-d6a65f108ec8",
   "metadata": {
    "scrolled": true,
    "tags": []
   },
   "outputs": [],
   "source": [
    "# %%sh\n",
    "# cd ../\n",
    "# make build\n",
    "# gsutil cp ./dist/*.whl $bucket_name"
   ]
  },
  {
   "cell_type": "code",
   "execution_count": null,
   "id": "a812160b-fd0f-4150-9110-db866f4b5299",
   "metadata": {},
   "outputs": [],
   "source": [
    "package_name = os.path.basename(glob.glob(\"../dist/*.whl\")[0])\n",
    "package_name"
   ]
  },
  {
   "cell_type": "markdown",
   "id": "d8a70df1-3af5-40b5-a631-4b13853e4dba",
   "metadata": {},
   "source": [
    "# Custom job"
   ]
  },
  {
   "cell_type": "code",
   "execution_count": null,
   "id": "d6eb469c-98b7-40e0-950f-64033a51d321",
   "metadata": {},
   "outputs": [],
   "source": [
    "replica_count = 1\n",
    "machine_type = \"n1-standard-4\"\n",
    "accelerator_count = 1\n",
    "accelerator_type = \"NVIDIA_TESLA_T4\"\n",
    "\n",
    "args = [\n",
    "    \"--batch_size\",\n",
    "    \"64\",\n",
    "    \"--num_epochs\",\n",
    "    \"2\",\n",
    "]"
   ]
  },
  {
   "cell_type": "code",
   "execution_count": null,
   "id": "2d9ab00c-3d79-41c0-a409-9553f959bf1b",
   "metadata": {},
   "outputs": [],
   "source": [
    "custom_training_job = aiplatform.CustomPythonPackageTrainingJob(\n",
    "    display_name=display_name,\n",
    "    python_package_gcs_uri= f\"{bucket_name}/{package_name}\",\n",
    "    python_module_name=module_name,\n",
    "    container_uri=image_uri,\n",
    ")"
   ]
  },
  {
   "cell_type": "code",
   "execution_count": null,
   "id": "b677fe00-8489-463c-99c8-ff0384177fe6",
   "metadata": {},
   "outputs": [],
   "source": [
    "custom_training_job.run(\n",
    "    args=args,\n",
    "    base_output_dir=gcs_output_uri_prefix,\n",
    "    replica_count=replica_count,\n",
    "    machine_type=machine_type,\n",
    "    accelerator_count=accelerator_count,\n",
    "    accelerator_type=accelerator_type,\n",
    "    tensorboard=tensorboard.resource_name,\n",
    "    service_account=service_account,\n",
    ")"
   ]
  },
  {
   "cell_type": "code",
   "execution_count": null,
   "id": "5b3a6ff9-8d25-429a-97e6-030966e0128d",
   "metadata": {},
   "outputs": [],
   "source": []
  }
 ],
 "metadata": {
  "environment": {
   "kernel": "conda-env-attrpred-env-py",
   "name": "pytorch-gpu.1-11.m91",
   "type": "gcloud",
   "uri": "gcr.io/deeplearning-platform-release/pytorch-gpu.1-11:m91"
  },
  "kernelspec": {
   "display_name": "Python [conda env:attrpred-env]",
   "language": "python",
   "name": "conda-env-attrpred-env-py"
  },
  "language_info": {
   "codemirror_mode": {
    "name": "ipython",
    "version": 3
   },
   "file_extension": ".py",
   "mimetype": "text/x-python",
   "name": "python",
   "nbconvert_exporter": "python",
   "pygments_lexer": "ipython3",
   "version": "3.7.12"
  }
 },
 "nbformat": 4,
 "nbformat_minor": 5
}
