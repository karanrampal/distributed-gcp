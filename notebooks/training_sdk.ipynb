{
 "cells": [
  {
   "cell_type": "markdown",
   "id": "c1bbcfd8-c40f-466e-bb92-b820b53f13da",
   "metadata": {},
   "source": [
    "# Import libraries"
   ]
  },
  {
   "cell_type": "code",
   "execution_count": null,
   "id": "199ba70a-c16a-462c-bc4f-809931b59027",
   "metadata": {},
   "outputs": [],
   "source": [
    "from google.cloud import aiplatform"
   ]
  },
  {
   "cell_type": "markdown",
   "id": "4c67d447-0fa6-4ff4-8a28-0ff034701ce7",
   "metadata": {},
   "source": [
    "# Set variables"
   ]
  },
  {
   "cell_type": "code",
   "execution_count": null,
   "id": "2c3c450c-b9fd-4e14-8a19-0226ed7dd47e",
   "metadata": {},
   "outputs": [],
   "source": [
    "project_id = \"smle-attribution-d237\"\n",
    "bucket_name = \"gs://attribute-models-bucket/fit-model\"\n",
    "region = \"europe-west4\"\n",
    "service_account = \"awesomeserviceaccount@smle-attribution-d237.iam.gserviceaccount.com\"\n",
    "image_uri = \"gcr.io/cloud-ml-public/training/pytorch-gpu.1-11:latest\"\n",
    "\n",
    "tensorboard_name = \"karan_tb\"\n",
    "\n",
    "display_name = \"fit_custom\"\n",
    "gcs_output_uri_prefix = f\"{bucket_name}/{display_name}\""
   ]
  },
  {
   "cell_type": "markdown",
   "id": "0b239e3a-e8ca-4fae-a620-ca9ba82fbc1c",
   "metadata": {},
   "source": [
    "# Setup Vertex AI"
   ]
  },
  {
   "cell_type": "code",
   "execution_count": null,
   "id": "f03cbb19-ad92-4284-acdb-9e1faa7fe9fa",
   "metadata": {},
   "outputs": [],
   "source": [
    "aiplatform.init(\n",
    "    project=project_id,\n",
    "    staging_bucket=bucket_name,\n",
    "    location=region,\n",
    ")"
   ]
  },
  {
   "cell_type": "markdown",
   "id": "e59cf162-8de4-4e5d-96f6-0159464f5c6f",
   "metadata": {},
   "source": [
    "# Tensorboard instance"
   ]
  },
  {
   "cell_type": "code",
   "execution_count": null,
   "id": "3f755cc4-b008-4571-8f5e-2ce3b5b36480",
   "metadata": {},
   "outputs": [],
   "source": [
    "tensorboard = aiplatform.Tensorboard(tensorboard_name=tensorboard_name)"
   ]
  },
  {
   "cell_type": "markdown",
   "id": "d8a70df1-3af5-40b5-a631-4b13853e4dba",
   "metadata": {},
   "source": [
    "# Custom job"
   ]
  },
  {
   "cell_type": "code",
   "execution_count": null,
   "id": "d6eb469c-98b7-40e0-950f-64033a51d321",
   "metadata": {},
   "outputs": [],
   "source": [
    "replica_count = 1\n",
    "machine_type = \"n1-standard-4\"\n",
    "accelerator_count = 2\n",
    "accelerator_type = \"NVIDIA_TESLA_K80\"\n",
    "\n",
    "args = [\n",
    "    \"--batch-size\",\n",
    "    \"128\",\n",
    "    \"--epochs\",\n",
    "    \"10\",\n",
    "]"
   ]
  },
  {
   "cell_type": "code",
   "execution_count": null,
   "id": "2d9ab00c-3d79-41c0-a409-9553f959bf1b",
   "metadata": {},
   "outputs": [],
   "source": [
    "custom_container_training_job = aiplatform.CustomContainerTrainingJob(\n",
    "    display_name=display_name,\n",
    "    container_uri=cimage_uri,\n",
    ")"
   ]
  },
  {
   "cell_type": "code",
   "execution_count": null,
   "id": "b677fe00-8489-463c-99c8-ff0384177fe6",
   "metadata": {},
   "outputs": [],
   "source": [
    "custom_container_training_job.run(\n",
    "    args=args,\n",
    "    base_output_dir=gcs_output_uri_prefix,\n",
    "    replica_count=replica_count,\n",
    "    machine_type=machine_type,\n",
    "    accelerator_count=accelerator_count,\n",
    "    accelerator_type=accelerator_type,\n",
    "    tensorboard=tensorboard.resource_name,\n",
    "    service_account=service_account,\n",
    ")"
   ]
  },
  {
   "cell_type": "code",
   "execution_count": null,
   "id": "58ce59be-417a-41bf-94be-d6a65f108ec8",
   "metadata": {},
   "outputs": [],
   "source": []
  }
 ],
 "metadata": {
  "environment": {
   "kernel": "conda-env-attrpred-env-py",
   "name": "pytorch-gpu.1-11.m91",
   "type": "gcloud",
   "uri": "gcr.io/deeplearning-platform-release/pytorch-gpu.1-11:m91"
  },
  "kernelspec": {
   "display_name": "Python [conda env:attrpred-env]",
   "language": "python",
   "name": "conda-env-attrpred-env-py"
  },
  "language_info": {
   "codemirror_mode": {
    "name": "ipython",
    "version": 3
   },
   "file_extension": ".py",
   "mimetype": "text/x-python",
   "name": "python",
   "nbconvert_exporter": "python",
   "pygments_lexer": "ipython3",
   "version": "3.7.12"
  }
 },
 "nbformat": 4,
 "nbformat_minor": 5
}
